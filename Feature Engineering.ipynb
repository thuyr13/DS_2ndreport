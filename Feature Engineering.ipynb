{
 "cells": [
  {
   "cell_type": "markdown",
   "metadata": {},
   "source": [
    "Four ways of investigating important features will be:\n",
    "\n",
    "- using decision trees to see which features are deemed important.\n",
    "- using correlation obtained in EDA.\n",
    "- using previous research and medical journals."
   ]
  },
  {
   "cell_type": "code",
   "execution_count": 4,
   "metadata": {},
   "outputs": [],
   "source": [
    "# importing dataset\n",
    "import pandas as pd\n",
    "\n",
    "diabetes = pd.read_csv (\"diabetes.csv\")"
   ]
  },
  {
   "cell_type": "code",
   "execution_count": 5,
   "metadata": {},
   "outputs": [
    {
     "name": "stdout",
     "output_type": "stream",
     "text": [
      "(70692, 22)\n",
      "       Diabetes_binary        HighBP      HighChol     CholCheck  \\\n",
      "count     70692.000000  70692.000000  70692.000000  70692.000000   \n",
      "mean          0.500000      0.563458      0.525703      0.975259   \n",
      "std           0.500004      0.495960      0.499342      0.155336   \n",
      "min           0.000000      0.000000      0.000000      0.000000   \n",
      "25%           0.000000      0.000000      0.000000      1.000000   \n",
      "50%           0.500000      1.000000      1.000000      1.000000   \n",
      "75%           1.000000      1.000000      1.000000      1.000000   \n",
      "max           1.000000      1.000000      1.000000      1.000000   \n",
      "\n",
      "                BMI        Smoker        Stroke  HeartDiseaseorAttack  \\\n",
      "count  70692.000000  70692.000000  70692.000000          70692.000000   \n",
      "mean      29.856985      0.475273      0.062171              0.147810   \n",
      "std        7.113954      0.499392      0.241468              0.354914   \n",
      "min       12.000000      0.000000      0.000000              0.000000   \n",
      "25%       25.000000      0.000000      0.000000              0.000000   \n",
      "50%       29.000000      0.000000      0.000000              0.000000   \n",
      "75%       33.000000      1.000000      0.000000              0.000000   \n",
      "max       98.000000      1.000000      1.000000              1.000000   \n",
      "\n",
      "       PhysActivity        Fruits  ...  AnyHealthcare   NoDocbcCost  \\\n",
      "count  70692.000000  70692.000000  ...   70692.000000  70692.000000   \n",
      "mean       0.703036      0.611795  ...       0.954960      0.093914   \n",
      "std        0.456924      0.487345  ...       0.207394      0.291712   \n",
      "min        0.000000      0.000000  ...       0.000000      0.000000   \n",
      "25%        0.000000      0.000000  ...       1.000000      0.000000   \n",
      "50%        1.000000      1.000000  ...       1.000000      0.000000   \n",
      "75%        1.000000      1.000000  ...       1.000000      0.000000   \n",
      "max        1.000000      1.000000  ...       1.000000      1.000000   \n",
      "\n",
      "            GenHlth      MentHlth      PhysHlth      DiffWalk           Sex  \\\n",
      "count  70692.000000  70692.000000  70692.000000  70692.000000  70692.000000   \n",
      "mean       2.837082      3.752037      5.810417      0.252730      0.456997   \n",
      "std        1.113565      8.155627     10.062261      0.434581      0.498151   \n",
      "min        1.000000      0.000000      0.000000      0.000000      0.000000   \n",
      "25%        2.000000      0.000000      0.000000      0.000000      0.000000   \n",
      "50%        3.000000      0.000000      0.000000      0.000000      0.000000   \n",
      "75%        4.000000      2.000000      6.000000      1.000000      1.000000   \n",
      "max        5.000000     30.000000     30.000000      1.000000      1.000000   \n",
      "\n",
      "                Age     Education        Income  \n",
      "count  70692.000000  70692.000000  70692.000000  \n",
      "mean       8.584055      4.920953      5.698311  \n",
      "std        2.852153      1.029081      2.175196  \n",
      "min        1.000000      1.000000      1.000000  \n",
      "25%        7.000000      4.000000      4.000000  \n",
      "50%        9.000000      5.000000      6.000000  \n",
      "75%       11.000000      6.000000      8.000000  \n",
      "max       13.000000      6.000000      8.000000  \n",
      "\n",
      "[8 rows x 22 columns]\n"
     ]
    }
   ],
   "source": [
    "print(diabetes.shape)\n",
    "print(diabetes.describe(include='all'))"
   ]
  },
  {
   "cell_type": "code",
   "execution_count": 6,
   "metadata": {},
   "outputs": [
    {
     "name": "stdout",
     "output_type": "stream",
     "text": [
      "0    0\n",
      "1    0\n",
      "2    0\n",
      "3    0\n",
      "4    0\n",
      "Name: Diabetes_binary, dtype: int64\n",
      "   HighBP  HighChol  CholCheck  BMI  Smoker  Stroke  HeartDiseaseorAttack  \\\n",
      "0       1         0          1   26       0       0                     0   \n",
      "1       1         1          1   26       1       1                     0   \n",
      "2       0         0          1   26       0       0                     0   \n",
      "3       1         1          1   28       1       0                     0   \n",
      "4       0         0          1   29       1       0                     0   \n",
      "\n",
      "   PhysActivity  Fruits  Veggies  ...  AnyHealthcare  NoDocbcCost  GenHlth  \\\n",
      "0             1       0        1  ...              1            0        3   \n",
      "1             0       1        0  ...              1            0        3   \n",
      "2             1       1        1  ...              1            0        1   \n",
      "3             1       1        1  ...              1            0        3   \n",
      "4             1       1        1  ...              1            0        2   \n",
      "\n",
      "   MentHlth  PhysHlth  DiffWalk  Sex  Age  Education  Income  \n",
      "0         5        30         0    1    4          6       8  \n",
      "1         0         0         0    1   12          6       8  \n",
      "2         0        10         0    1   13          6       8  \n",
      "3         0         3         0    1   11          6       8  \n",
      "4         0         0         0    0    8          5       8  \n",
      "\n",
      "[5 rows x 21 columns]\n"
     ]
    }
   ],
   "source": [
    "# splitting data\n",
    "Ivs = diabetes.drop('Diabetes_binary', axis='columns')\n",
    "DV = diabetes['Diabetes_binary']\n",
    "print(DV.head())\n",
    "print(Ivs.head())"
   ]
  },
  {
   "cell_type": "code",
   "execution_count": 7,
   "metadata": {},
   "outputs": [],
   "source": [
    "#importing the tree modelling library\n",
    "\n",
    "from sklearn import tree"
   ]
  },
  {
   "cell_type": "code",
   "execution_count": 11,
   "metadata": {},
   "outputs": [],
   "source": [
    "#Splitting data\n",
    "from sklearn.model_selection import train_test_split\n",
    "\n",
    "train_Ivs, test_Ivs, train_DV, test_DV = train_test_split(Ivs,DV,test_size=0.3,random_state=51)"
   ]
  },
  {
   "cell_type": "code",
   "execution_count": 182,
   "metadata": {},
   "outputs": [],
   "source": [
    "#setting up initial model\n",
    "\n",
    "model = tree.DecisionTreeClassifier()\n",
    "classtree_noprune=model.fit(train_Ivs, train_DV)"
   ]
  },
  {
   "cell_type": "code",
   "execution_count": 183,
   "metadata": {},
   "outputs": [],
   "source": [
    "optalpha = classtree.cost_complexity_pruning_path(train_Ivs,train_DV) #finding optimal pruning parameter alpha.\n",
    "biggest=max(optalpha.ccp_alphas) # extracting highest alpha\n",
    "medianalpha=np.median(optalpha.ccp_alphas) # extracting median alpha.\n",
    "meanalpha=np.mean(optalpha.ccp_alphas) # average alpha\n"
   ]
  },
  {
   "cell_type": "code",
   "execution_count": 184,
   "metadata": {},
   "outputs": [],
   "source": [
    "# specifying additional models with pruning parameters\n",
    "model2 = tree.DecisionTreeClassifier(ccp_alpha=biggest)\n",
    "model3 = tree.DecisionTreeClassifier(ccp_alpha=medianalpha)\n",
    "model4 = tree.DecisionTreeClassifier(ccp_alpha=meanalpha)"
   ]
  },
  {
   "cell_type": "code",
   "execution_count": 185,
   "metadata": {},
   "outputs": [],
   "source": [
    "classtree2=model2.fit(train_Ivs, train_DV)\n",
    "classtree3=model3.fit(train_Ivs, train_DV)\n",
    "classtree4=model4.fit(train_Ivs, train_DV)"
   ]
  },
  {
   "cell_type": "code",
   "execution_count": 190,
   "metadata": {},
   "outputs": [
    {
     "name": "stdout",
     "output_type": "stream",
     "text": [
      "model 1: alpha 0, depth 38, accuracy 0.6564503960769521.\n",
      "model 2: alpha 0.07, depth 0, accuracy 0.4976895511127876.\n",
      "model 3: alpha 0.0, depth 34, accuracy 0.6828083741984157.\n",
      "model 4: alpha 0.0, depth 16, accuracy 0.7381648434552999.\n"
     ]
    }
   ],
   "source": [
    "# evaluating depth of each model\n",
    "dep1=classtree_noprune.get_depth()\n",
    "dep2=classtree2.get_depth()\n",
    "dep3=classtree3.get_depth()\n",
    "dep4=classtree4.get_depth()\n",
    "\n",
    "#evaluating accuracy of each model\n",
    "acc1=model.score(test_Ivs,test_DV)\n",
    "acc2=model2.score(test_Ivs,test_DV)\n",
    "acc3=model3.score(test_Ivs,test_DV)\n",
    "acc4=model4.score(test_Ivs,test_DV)\n",
    "\n",
    "print('model 1: alpha 0, depth {}, accuracy {}.'.format(dep1,acc1))\n",
    "print('model 2: alpha {}, depth {}, accuracy {}.'.format(round(biggest,ndigits=2),dep2,acc2))\n",
    "print('model 3: alpha {}, depth {}, accuracy {}.'.format(round(medianalpha,ndigits=2),dep3,acc3))\n",
    "print('model 4: alpha {}, depth {}, accuracy {}.'.format(round(meanalpha,ndigits=2),dep4,acc4))"
   ]
  },
  {
   "cell_type": "code",
   "execution_count": 15,
   "metadata": {},
   "outputs": [],
   "source": [
    "# Plotting important variables\n",
    "\n",
    "import matplotlib.pyplot as plt"
   ]
  },
  {
   "cell_type": "code",
   "execution_count": 178,
   "metadata": {},
   "outputs": [
    {
     "data": {
      "image/png": "[encoded data removed]",
      "text/plain": [
       "<Figure size 640x480 with 1 Axes>"
      ]
     },
     "metadata": {},
     "output_type": "display_data"
    }
   ],
   "source": [
    "fnames = model4.feature_names_in_\n",
    "importance = model4.feature_importances_\n",
    "dfdata = pd.DataFrame({'feature': fnames, 'importance': importance})\n",
    "sorted = dfdata.sort_values(by='importance',ascending=False)\n",
    "\n",
    "\n",
    "plt.title(\"Feature Importances\")\n",
    "plt.xlabel(\"Feature Name\")\n",
    "plt.ylabel(\"Importance Score\")\n",
    "plt.bar(sorted['feature'],sorted['importance'])\n",
    "plt.xticks(rotation=90,size=8)\n",
    "plt.tight_layout()"
   ]
  },
  {
   "cell_type": "markdown",
   "metadata": {},
   "source": [
    "The most important variables here were:\n",
    "- HighBP\n",
    "- GenHlth\n",
    "- BMI\n",
    "- Age\n",
    "- HighChol"
   ]
  },
  {
   "cell_type": "markdown",
   "metadata": {},
   "source": [
    "Based on the correlation from EDA the features moving with the variable the most are:\n",
    "- GenHlth\n",
    "- HighBP\n",
    "- BMI\n",
    "- HighChol\n",
    "- Age \n",
    "- DiffWalk\n",
    "\n",
    "With a decision boundry of 0.21."
   ]
  }
 ],
 "metadata": {
  "kernelspec": {
   "display_name": "Python 3",
   "language": "python",
   "name": "python3"
  },
  "language_info": {
   "codemirror_mode": {
    "name": "ipython",
    "version": 3
   },
   "file_extension": ".py",
   "mimetype": "text/x-python",
   "name": "python",
   "nbconvert_exporter": "python",
   "pygments_lexer": "ipython3",
   "version": "3.11.8"
  }
 },
 "nbformat": 4,
 "nbformat_minor": 2
}
