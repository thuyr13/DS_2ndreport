{
 "cells": [
  {
   "cell_type": "code",
   "execution_count": 1,
   "id": "565a82ca-0f01-4877-9bc1-9f6d7cc9bdcb",
   "metadata": {},
   "outputs": [],
   "source": [
    "import pandas as pd\n",
    "import numpy as np\n",
    "import matplotlib.pyplot as plt\n",
    "\n",
    "import warnings\n",
    "warnings.filterwarnings('ignore')"
   ]
  },
  {
   "cell_type": "markdown",
   "id": "c41774d8",
   "metadata": {},
   "source": [
    "## Model Selection"
   ]
  },
  {
   "cell_type": "code",
   "execution_count": 2,
   "id": "0ba97aca",
   "metadata": {},
   "outputs": [],
   "source": [
    "# importing classification models\n",
    "from sklearn.linear_model import LogisticRegression \n",
    "from sklearn.svm import SVC\n",
    "from sklearn.neighbors import KNeighborsClassifier\n",
    "from sklearn.tree import DecisionTreeClassifier\n",
    "from sklearn.ensemble import RandomForestClassifier\n",
    "from sklearn.naive_bayes import GaussianNB\n",
    "\n",
    "# importing method to perform cross validation\n",
    "from sklearn.model_selection import GridSearchCV #, RandomizedSearchCV\n",
    "from sklearn.model_selection import train_test_split \n",
    "from sklearn.model_selection import KFold\n",
    "from sklearn.model_selection import cross_val_score"
   ]
  },
  {
   "cell_type": "code",
   "execution_count": 3,
   "id": "5f9b8a31",
   "metadata": {},
   "outputs": [
    {
     "name": "stdout",
     "output_type": "stream",
     "text": [
      "(2537, 22)\n"
     ]
    },
    {
     "data": {
      "text/html": [
       "<div>\n",
       "<style scoped>\n",
       "    .dataframe tbody tr th:only-of-type {\n",
       "        vertical-align: middle;\n",
       "    }\n",
       "\n",
       "    .dataframe tbody tr th {\n",
       "        vertical-align: top;\n",
       "    }\n",
       "\n",
       "    .dataframe thead th {\n",
       "        text-align: right;\n",
       "    }\n",
       "</style>\n",
       "<table border=\"1\" class=\"dataframe\">\n",
       "  <thead>\n",
       "    <tr style=\"text-align: right;\">\n",
       "      <th></th>\n",
       "      <th>Diabetes_binary</th>\n",
       "      <th>HighBP</th>\n",
       "      <th>HighChol</th>\n",
       "      <th>CholCheck</th>\n",
       "      <th>BMI</th>\n",
       "      <th>Smoker</th>\n",
       "      <th>Stroke</th>\n",
       "      <th>HeartDiseaseorAttack</th>\n",
       "      <th>PhysActivity</th>\n",
       "      <th>Fruits</th>\n",
       "      <th>...</th>\n",
       "      <th>AnyHealthcare</th>\n",
       "      <th>NoDocbcCost</th>\n",
       "      <th>GenHlth</th>\n",
       "      <th>MentHlth</th>\n",
       "      <th>PhysHlth</th>\n",
       "      <th>DiffWalk</th>\n",
       "      <th>Sex</th>\n",
       "      <th>Age</th>\n",
       "      <th>Education</th>\n",
       "      <th>Income</th>\n",
       "    </tr>\n",
       "  </thead>\n",
       "  <tbody>\n",
       "    <tr>\n",
       "      <th>78489</th>\n",
       "      <td>1.0</td>\n",
       "      <td>1.0</td>\n",
       "      <td>1.0</td>\n",
       "      <td>1.0</td>\n",
       "      <td>31.0</td>\n",
       "      <td>1.0</td>\n",
       "      <td>0.0</td>\n",
       "      <td>0.0</td>\n",
       "      <td>1.0</td>\n",
       "      <td>1.0</td>\n",
       "      <td>...</td>\n",
       "      <td>1.0</td>\n",
       "      <td>0.0</td>\n",
       "      <td>4.0</td>\n",
       "      <td>0.0</td>\n",
       "      <td>0.0</td>\n",
       "      <td>1.0</td>\n",
       "      <td>0.0</td>\n",
       "      <td>12.0</td>\n",
       "      <td>2.0</td>\n",
       "      <td>2.0</td>\n",
       "    </tr>\n",
       "    <tr>\n",
       "      <th>51552</th>\n",
       "      <td>0.0</td>\n",
       "      <td>1.0</td>\n",
       "      <td>0.0</td>\n",
       "      <td>1.0</td>\n",
       "      <td>33.0</td>\n",
       "      <td>1.0</td>\n",
       "      <td>0.0</td>\n",
       "      <td>0.0</td>\n",
       "      <td>1.0</td>\n",
       "      <td>1.0</td>\n",
       "      <td>...</td>\n",
       "      <td>1.0</td>\n",
       "      <td>0.0</td>\n",
       "      <td>4.0</td>\n",
       "      <td>20.0</td>\n",
       "      <td>15.0</td>\n",
       "      <td>0.0</td>\n",
       "      <td>1.0</td>\n",
       "      <td>8.0</td>\n",
       "      <td>4.0</td>\n",
       "      <td>3.0</td>\n",
       "    </tr>\n",
       "    <tr>\n",
       "      <th>233076</th>\n",
       "      <td>0.0</td>\n",
       "      <td>0.0</td>\n",
       "      <td>0.0</td>\n",
       "      <td>1.0</td>\n",
       "      <td>27.0</td>\n",
       "      <td>0.0</td>\n",
       "      <td>0.0</td>\n",
       "      <td>0.0</td>\n",
       "      <td>0.0</td>\n",
       "      <td>1.0</td>\n",
       "      <td>...</td>\n",
       "      <td>1.0</td>\n",
       "      <td>0.0</td>\n",
       "      <td>3.0</td>\n",
       "      <td>0.0</td>\n",
       "      <td>0.0</td>\n",
       "      <td>0.0</td>\n",
       "      <td>1.0</td>\n",
       "      <td>9.0</td>\n",
       "      <td>5.0</td>\n",
       "      <td>6.0</td>\n",
       "    </tr>\n",
       "    <tr>\n",
       "      <th>228190</th>\n",
       "      <td>1.0</td>\n",
       "      <td>1.0</td>\n",
       "      <td>1.0</td>\n",
       "      <td>1.0</td>\n",
       "      <td>28.0</td>\n",
       "      <td>0.0</td>\n",
       "      <td>0.0</td>\n",
       "      <td>0.0</td>\n",
       "      <td>1.0</td>\n",
       "      <td>0.0</td>\n",
       "      <td>...</td>\n",
       "      <td>1.0</td>\n",
       "      <td>0.0</td>\n",
       "      <td>3.0</td>\n",
       "      <td>0.0</td>\n",
       "      <td>1.0</td>\n",
       "      <td>1.0</td>\n",
       "      <td>1.0</td>\n",
       "      <td>13.0</td>\n",
       "      <td>5.0</td>\n",
       "      <td>8.0</td>\n",
       "    </tr>\n",
       "    <tr>\n",
       "      <th>128639</th>\n",
       "      <td>0.0</td>\n",
       "      <td>1.0</td>\n",
       "      <td>1.0</td>\n",
       "      <td>1.0</td>\n",
       "      <td>25.0</td>\n",
       "      <td>0.0</td>\n",
       "      <td>0.0</td>\n",
       "      <td>1.0</td>\n",
       "      <td>1.0</td>\n",
       "      <td>1.0</td>\n",
       "      <td>...</td>\n",
       "      <td>1.0</td>\n",
       "      <td>0.0</td>\n",
       "      <td>2.0</td>\n",
       "      <td>0.0</td>\n",
       "      <td>5.0</td>\n",
       "      <td>0.0</td>\n",
       "      <td>0.0</td>\n",
       "      <td>12.0</td>\n",
       "      <td>5.0</td>\n",
       "      <td>5.0</td>\n",
       "    </tr>\n",
       "  </tbody>\n",
       "</table>\n",
       "<p>5 rows × 22 columns</p>\n",
       "</div>"
      ],
      "text/plain": [
       "        Diabetes_binary  HighBP  HighChol  CholCheck   BMI  Smoker  Stroke  \\\n",
       "78489               1.0     1.0       1.0        1.0  31.0     1.0     0.0   \n",
       "51552               0.0     1.0       0.0        1.0  33.0     1.0     0.0   \n",
       "233076              0.0     0.0       0.0        1.0  27.0     0.0     0.0   \n",
       "228190              1.0     1.0       1.0        1.0  28.0     0.0     0.0   \n",
       "128639              0.0     1.0       1.0        1.0  25.0     0.0     0.0   \n",
       "\n",
       "        HeartDiseaseorAttack  PhysActivity  Fruits  ...  AnyHealthcare  \\\n",
       "78489                    0.0           1.0     1.0  ...            1.0   \n",
       "51552                    0.0           1.0     1.0  ...            1.0   \n",
       "233076                   0.0           0.0     1.0  ...            1.0   \n",
       "228190                   0.0           1.0     0.0  ...            1.0   \n",
       "128639                   1.0           1.0     1.0  ...            1.0   \n",
       "\n",
       "        NoDocbcCost  GenHlth  MentHlth  PhysHlth  DiffWalk  Sex   Age  \\\n",
       "78489           0.0      4.0       0.0       0.0       1.0  0.0  12.0   \n",
       "51552           0.0      4.0      20.0      15.0       0.0  1.0   8.0   \n",
       "233076          0.0      3.0       0.0       0.0       0.0  1.0   9.0   \n",
       "228190          0.0      3.0       0.0       1.0       1.0  1.0  13.0   \n",
       "128639          0.0      2.0       0.0       5.0       0.0  0.0  12.0   \n",
       "\n",
       "        Education  Income  \n",
       "78489         2.0     2.0  \n",
       "51552         4.0     3.0  \n",
       "233076        5.0     6.0  \n",
       "228190        5.0     8.0  \n",
       "128639        5.0     5.0  \n",
       "\n",
       "[5 rows x 22 columns]"
      ]
     },
     "execution_count": 3,
     "metadata": {},
     "output_type": "execute_result"
    }
   ],
   "source": [
    "data = pd.read_csv(\"diabetes_clean.csv\")\n",
    "# take a 1% sample of the dataset\n",
    "df_frac = data.sample(frac =.01) \n",
    "print(df_frac.shape)\n",
    "df_frac.head(5)"
   ]
  },
  {
   "cell_type": "code",
   "execution_count": 11,
   "id": "548b5ffc",
   "metadata": {},
   "outputs": [],
   "source": [
    "# IVs\n",
    "x = df_frac.iloc[:,1:21] \n",
    "# DVs\n",
    "y = df_frac.iloc[:,0]\n",
    "# train/ test sets\n",
    "x_train, x_test, y_train, y_test = train_test_split(x, y, test_size = 0.3, stratify = y, random_state = 42)"
   ]
  },
  {
   "cell_type": "code",
   "execution_count": 12,
   "id": "f205c975",
   "metadata": {},
   "outputs": [],
   "source": [
    "# store the models\n",
    "model_list = []\n",
    "#  Logistic Regression model\n",
    "model_list.append(('LR', LogisticRegression(max_iter = 1000)))\n",
    "#  KNN model\n",
    "model_list.append(('KNN', KNeighborsClassifier()))\n",
    "#  SVM model\n",
    "model_list.append(('SVM', SVC()))\n",
    "#  Naive Bayes model\n",
    "model_list.append(('NaiveBayes', GaussianNB()))\n",
    "#  Random Forest\n",
    "model_list.append(('RF', RandomForestClassifier()))"
   ]
  },
  {
   "cell_type": "code",
   "execution_count": 14,
   "id": "08d0767c",
   "metadata": {},
   "outputs": [
    {
     "name": "stdout",
     "output_type": "stream",
     "text": [
      "The 10 cross validation results are: \n",
      "\n"
     ]
    },
    {
     "data": {
      "text/html": [
       "<div>\n",
       "<style scoped>\n",
       "    .dataframe tbody tr th:only-of-type {\n",
       "        vertical-align: middle;\n",
       "    }\n",
       "\n",
       "    .dataframe tbody tr th {\n",
       "        vertical-align: top;\n",
       "    }\n",
       "\n",
       "    .dataframe thead th {\n",
       "        text-align: right;\n",
       "    }\n",
       "</style>\n",
       "<table border=\"1\" class=\"dataframe\">\n",
       "  <thead>\n",
       "    <tr style=\"text-align: right;\">\n",
       "      <th></th>\n",
       "      <th>LR</th>\n",
       "      <th>KNN</th>\n",
       "      <th>SVM</th>\n",
       "      <th>NB</th>\n",
       "      <th>RF</th>\n",
       "    </tr>\n",
       "  </thead>\n",
       "  <tbody>\n",
       "    <tr>\n",
       "      <th>0</th>\n",
       "      <td>0.865169</td>\n",
       "      <td>0.859551</td>\n",
       "      <td>0.882022</td>\n",
       "      <td>0.359551</td>\n",
       "      <td>0.865169</td>\n",
       "    </tr>\n",
       "    <tr>\n",
       "      <th>1</th>\n",
       "      <td>0.820225</td>\n",
       "      <td>0.814607</td>\n",
       "      <td>0.820225</td>\n",
       "      <td>0.438202</td>\n",
       "      <td>0.837079</td>\n",
       "    </tr>\n",
       "    <tr>\n",
       "      <th>2</th>\n",
       "      <td>0.870787</td>\n",
       "      <td>0.820225</td>\n",
       "      <td>0.853933</td>\n",
       "      <td>0.387640</td>\n",
       "      <td>0.848315</td>\n",
       "    </tr>\n",
       "    <tr>\n",
       "      <th>3</th>\n",
       "      <td>0.859551</td>\n",
       "      <td>0.837079</td>\n",
       "      <td>0.865169</td>\n",
       "      <td>0.438202</td>\n",
       "      <td>0.870787</td>\n",
       "    </tr>\n",
       "    <tr>\n",
       "      <th>4</th>\n",
       "      <td>0.825843</td>\n",
       "      <td>0.808989</td>\n",
       "      <td>0.837079</td>\n",
       "      <td>0.359551</td>\n",
       "      <td>0.831461</td>\n",
       "    </tr>\n",
       "    <tr>\n",
       "      <th>5</th>\n",
       "      <td>0.836158</td>\n",
       "      <td>0.824859</td>\n",
       "      <td>0.830508</td>\n",
       "      <td>0.412429</td>\n",
       "      <td>0.824859</td>\n",
       "    </tr>\n",
       "    <tr>\n",
       "      <th>6</th>\n",
       "      <td>0.864407</td>\n",
       "      <td>0.847458</td>\n",
       "      <td>0.853107</td>\n",
       "      <td>0.406780</td>\n",
       "      <td>0.853107</td>\n",
       "    </tr>\n",
       "    <tr>\n",
       "      <th>7</th>\n",
       "      <td>0.824859</td>\n",
       "      <td>0.802260</td>\n",
       "      <td>0.824859</td>\n",
       "      <td>0.468927</td>\n",
       "      <td>0.807910</td>\n",
       "    </tr>\n",
       "    <tr>\n",
       "      <th>8</th>\n",
       "      <td>0.836158</td>\n",
       "      <td>0.779661</td>\n",
       "      <td>0.830508</td>\n",
       "      <td>0.429379</td>\n",
       "      <td>0.807910</td>\n",
       "    </tr>\n",
       "    <tr>\n",
       "      <th>9</th>\n",
       "      <td>0.819209</td>\n",
       "      <td>0.785311</td>\n",
       "      <td>0.802260</td>\n",
       "      <td>0.406780</td>\n",
       "      <td>0.790960</td>\n",
       "    </tr>\n",
       "  </tbody>\n",
       "</table>\n",
       "</div>"
      ],
      "text/plain": [
       "         LR       KNN       SVM        NB        RF\n",
       "0  0.865169  0.859551  0.882022  0.359551  0.865169\n",
       "1  0.820225  0.814607  0.820225  0.438202  0.837079\n",
       "2  0.870787  0.820225  0.853933  0.387640  0.848315\n",
       "3  0.859551  0.837079  0.865169  0.438202  0.870787\n",
       "4  0.825843  0.808989  0.837079  0.359551  0.831461\n",
       "5  0.836158  0.824859  0.830508  0.412429  0.824859\n",
       "6  0.864407  0.847458  0.853107  0.406780  0.853107\n",
       "7  0.824859  0.802260  0.824859  0.468927  0.807910\n",
       "8  0.836158  0.779661  0.830508  0.429379  0.807910\n",
       "9  0.819209  0.785311  0.802260  0.406780  0.790960"
      ]
     },
     "execution_count": 14,
     "metadata": {},
     "output_type": "execute_result"
    }
   ],
   "source": [
    "# store results\n",
    "eval_score = []\n",
    "model_name = []\n",
    "# cross validation on each model\n",
    "for name, model_detail in model_list:\n",
    "    kfold = KFold(n_splits = 10)\n",
    "    # training data\n",
    "    cv_results = cross_val_score(model_detail, x_train, y_train, cv = kfold)\n",
    "    # append results\n",
    "    eval_score.append(cv_results)\n",
    "    # append names\n",
    "    model_name.append(name)\n",
    "\n",
    "# results as a dataframe\n",
    "rs = pd.DataFrame(eval_score, index = ['LR','KNN', 'SVM', 'NB', 'RF'])\n",
    "print(\"The 10 cross validation results are: \\n\")\n",
    "# transpose\n",
    "rs = pd.DataFrame(rs.T)\n",
    "rs"
   ]
  },
  {
   "cell_type": "code",
   "execution_count": 15,
   "id": "8334e3d1",
   "metadata": {},
   "outputs": [
    {
     "data": {
      "text/html": [
       "<div>\n",
       "<style scoped>\n",
       "    .dataframe tbody tr th:only-of-type {\n",
       "        vertical-align: middle;\n",
       "    }\n",
       "\n",
       "    .dataframe tbody tr th {\n",
       "        vertical-align: top;\n",
       "    }\n",
       "\n",
       "    .dataframe thead th {\n",
       "        text-align: right;\n",
       "    }\n",
       "</style>\n",
       "<table border=\"1\" class=\"dataframe\">\n",
       "  <thead>\n",
       "    <tr style=\"text-align: right;\">\n",
       "      <th></th>\n",
       "      <th>LR</th>\n",
       "      <th>KNN</th>\n",
       "      <th>SVM</th>\n",
       "      <th>NB</th>\n",
       "      <th>RF</th>\n",
       "    </tr>\n",
       "  </thead>\n",
       "  <tbody>\n",
       "    <tr>\n",
       "      <th>count</th>\n",
       "      <td>10.000000</td>\n",
       "      <td>10.000000</td>\n",
       "      <td>10.000000</td>\n",
       "      <td>10.000000</td>\n",
       "      <td>10.000000</td>\n",
       "    </tr>\n",
       "    <tr>\n",
       "      <th>mean</th>\n",
       "      <td>0.842236</td>\n",
       "      <td>0.818000</td>\n",
       "      <td>0.839967</td>\n",
       "      <td>0.410744</td>\n",
       "      <td>0.833755</td>\n",
       "    </tr>\n",
       "    <tr>\n",
       "      <th>std</th>\n",
       "      <td>0.020526</td>\n",
       "      <td>0.025580</td>\n",
       "      <td>0.023567</td>\n",
       "      <td>0.035040</td>\n",
       "      <td>0.026262</td>\n",
       "    </tr>\n",
       "    <tr>\n",
       "      <th>min</th>\n",
       "      <td>0.819209</td>\n",
       "      <td>0.779661</td>\n",
       "      <td>0.802260</td>\n",
       "      <td>0.359551</td>\n",
       "      <td>0.790960</td>\n",
       "    </tr>\n",
       "    <tr>\n",
       "      <th>25%</th>\n",
       "      <td>0.825105</td>\n",
       "      <td>0.803942</td>\n",
       "      <td>0.826271</td>\n",
       "      <td>0.392425</td>\n",
       "      <td>0.812147</td>\n",
       "    </tr>\n",
       "    <tr>\n",
       "      <th>50%</th>\n",
       "      <td>0.836158</td>\n",
       "      <td>0.817416</td>\n",
       "      <td>0.833794</td>\n",
       "      <td>0.409605</td>\n",
       "      <td>0.834270</td>\n",
       "    </tr>\n",
       "    <tr>\n",
       "      <th>75%</th>\n",
       "      <td>0.863193</td>\n",
       "      <td>0.834024</td>\n",
       "      <td>0.853726</td>\n",
       "      <td>0.435996</td>\n",
       "      <td>0.851909</td>\n",
       "    </tr>\n",
       "    <tr>\n",
       "      <th>max</th>\n",
       "      <td>0.870787</td>\n",
       "      <td>0.859551</td>\n",
       "      <td>0.882022</td>\n",
       "      <td>0.468927</td>\n",
       "      <td>0.870787</td>\n",
       "    </tr>\n",
       "  </tbody>\n",
       "</table>\n",
       "</div>"
      ],
      "text/plain": [
       "              LR        KNN        SVM         NB         RF\n",
       "count  10.000000  10.000000  10.000000  10.000000  10.000000\n",
       "mean    0.842236   0.818000   0.839967   0.410744   0.833755\n",
       "std     0.020526   0.025580   0.023567   0.035040   0.026262\n",
       "min     0.819209   0.779661   0.802260   0.359551   0.790960\n",
       "25%     0.825105   0.803942   0.826271   0.392425   0.812147\n",
       "50%     0.836158   0.817416   0.833794   0.409605   0.834270\n",
       "75%     0.863193   0.834024   0.853726   0.435996   0.851909\n",
       "max     0.870787   0.859551   0.882022   0.468927   0.870787"
      ]
     },
     "execution_count": 15,
     "metadata": {},
     "output_type": "execute_result"
    }
   ],
   "source": [
    "# get the mean result\n",
    "rs.describe()"
   ]
  },
  {
   "cell_type": "markdown",
   "id": "ed26a195-a880-4f3d-b7a7-41f346bd7eb1",
   "metadata": {},
   "source": [
    "## Model"
   ]
  },
  {
   "cell_type": "markdown",
   "id": "563bd9d9-4d16-4326-8f4f-932762448874",
   "metadata": {},
   "source": [
    "1. Random Forest\n",
    "2. SVM\n",
    "3. Logistic Regression"
   ]
  },
  {
   "cell_type": "code",
   "execution_count": 4,
   "id": "3a2d37b1-5049-4531-b5ed-12ace5b7267c",
   "metadata": {},
   "outputs": [],
   "source": [
    "from sklearn.ensemble import RandomForestClassifier\n",
    "from sklearn.svm import SVC\n",
    "from sklearn.linear_model import LogisticRegression\n",
    "from sklearn.metrics import accuracy_score, confusion_matrix, precision_score, recall_score, f1_score, ConfusionMatrixDisplay\n",
    "from sklearn.model_selection import RandomizedSearchCV, train_test_split\n",
    "from scipy.stats import randint"
   ]
  },
  {
   "cell_type": "markdown",
   "id": "2a035c2e-7963-4b73-84b9-ca557ff4e0b8",
   "metadata": {},
   "source": [
    "### Datasets"
   ]
  },
  {
   "cell_type": "code",
   "execution_count": 5,
   "id": "31bad1ea",
   "metadata": {},
   "outputs": [
    {
     "data": {
      "text/html": [
       "<div>\n",
       "<style scoped>\n",
       "    .dataframe tbody tr th:only-of-type {\n",
       "        vertical-align: middle;\n",
       "    }\n",
       "\n",
       "    .dataframe tbody tr th {\n",
       "        vertical-align: top;\n",
       "    }\n",
       "\n",
       "    .dataframe thead th {\n",
       "        text-align: right;\n",
       "    }\n",
       "</style>\n",
       "<table border=\"1\" class=\"dataframe\">\n",
       "  <thead>\n",
       "    <tr style=\"text-align: right;\">\n",
       "      <th></th>\n",
       "      <th>Diabetes_binary</th>\n",
       "      <th>BMI</th>\n",
       "      <th>Age</th>\n",
       "      <th>MentHlth</th>\n",
       "      <th>GenHlth</th>\n",
       "      <th>Education</th>\n",
       "      <th>HighBP</th>\n",
       "    </tr>\n",
       "  </thead>\n",
       "  <tbody>\n",
       "    <tr>\n",
       "      <th>0</th>\n",
       "      <td>0.0</td>\n",
       "      <td>0.002725</td>\n",
       "      <td>9.0</td>\n",
       "      <td>18.0</td>\n",
       "      <td>5.0</td>\n",
       "      <td>4.0</td>\n",
       "      <td>1.0</td>\n",
       "    </tr>\n",
       "    <tr>\n",
       "      <th>1</th>\n",
       "      <td>0.0</td>\n",
       "      <td>0.001703</td>\n",
       "      <td>7.0</td>\n",
       "      <td>0.0</td>\n",
       "      <td>3.0</td>\n",
       "      <td>6.0</td>\n",
       "      <td>0.0</td>\n",
       "    </tr>\n",
       "    <tr>\n",
       "      <th>2</th>\n",
       "      <td>0.0</td>\n",
       "      <td>0.001908</td>\n",
       "      <td>9.0</td>\n",
       "      <td>30.0</td>\n",
       "      <td>5.0</td>\n",
       "      <td>4.0</td>\n",
       "      <td>1.0</td>\n",
       "    </tr>\n",
       "    <tr>\n",
       "      <th>3</th>\n",
       "      <td>0.0</td>\n",
       "      <td>0.001840</td>\n",
       "      <td>11.0</td>\n",
       "      <td>0.0</td>\n",
       "      <td>2.0</td>\n",
       "      <td>3.0</td>\n",
       "      <td>1.0</td>\n",
       "    </tr>\n",
       "    <tr>\n",
       "      <th>4</th>\n",
       "      <td>0.0</td>\n",
       "      <td>0.001635</td>\n",
       "      <td>11.0</td>\n",
       "      <td>3.0</td>\n",
       "      <td>2.0</td>\n",
       "      <td>5.0</td>\n",
       "      <td>1.0</td>\n",
       "    </tr>\n",
       "  </tbody>\n",
       "</table>\n",
       "</div>"
      ],
      "text/plain": [
       "   Diabetes_binary       BMI   Age  MentHlth  GenHlth  Education  HighBP\n",
       "0              0.0  0.002725   9.0      18.0      5.0        4.0     1.0\n",
       "1              0.0  0.001703   7.0       0.0      3.0        6.0     0.0\n",
       "2              0.0  0.001908   9.0      30.0      5.0        4.0     1.0\n",
       "3              0.0  0.001840  11.0       0.0      2.0        3.0     1.0\n",
       "4              0.0  0.001635  11.0       3.0      2.0        5.0     1.0"
      ]
     },
     "execution_count": 5,
     "metadata": {},
     "output_type": "execute_result"
    }
   ],
   "source": [
    "df = pd.read_csv('diabetes_important.csv')\n",
    "df.head(5)"
   ]
  },
  {
   "cell_type": "code",
   "execution_count": 6,
   "id": "8929a636-d402-46ba-ba9b-bd6800e3a191",
   "metadata": {},
   "outputs": [],
   "source": [
    "def data_split(df):\n",
    "    iv = df.drop('Diabetes_binary', axis = 1)\n",
    "    dv = df['Diabetes_binary']\n",
    "    iv_train, iv_test, dv_train, dv_test = train_test_split(iv, dv, test_size = 0.3, stratify=dv, random_state = 42)\n",
    "    return iv_train, iv_test, dv_train, dv_test"
   ]
  },
  {
   "cell_type": "code",
   "execution_count": 7,
   "id": "6f99e845-2ed6-4350-a9e1-5baefa01624d",
   "metadata": {},
   "outputs": [],
   "source": [
    "# train/test datasets\n",
    "\n",
    "iv_train_1, iv_test_1, dv_train_1, dv_test_1 = data_split(df)"
   ]
  },
  {
   "cell_type": "code",
   "execution_count": 8,
   "id": "0d3957ba-d46e-4336-b1f0-398b1e42be36",
   "metadata": {},
   "outputs": [
    {
     "name": "stdout",
     "output_type": "stream",
     "text": [
      "(177576, 6)\n"
     ]
    },
    {
     "data": {
      "text/html": [
       "<div>\n",
       "<style scoped>\n",
       "    .dataframe tbody tr th:only-of-type {\n",
       "        vertical-align: middle;\n",
       "    }\n",
       "\n",
       "    .dataframe tbody tr th {\n",
       "        vertical-align: top;\n",
       "    }\n",
       "\n",
       "    .dataframe thead th {\n",
       "        text-align: right;\n",
       "    }\n",
       "</style>\n",
       "<table border=\"1\" class=\"dataframe\">\n",
       "  <thead>\n",
       "    <tr style=\"text-align: right;\">\n",
       "      <th></th>\n",
       "      <th>BMI</th>\n",
       "      <th>Age</th>\n",
       "      <th>MentHlth</th>\n",
       "      <th>GenHlth</th>\n",
       "      <th>Education</th>\n",
       "      <th>HighBP</th>\n",
       "    </tr>\n",
       "  </thead>\n",
       "  <tbody>\n",
       "    <tr>\n",
       "      <th>52059</th>\n",
       "      <td>0.002180</td>\n",
       "      <td>11.0</td>\n",
       "      <td>0.0</td>\n",
       "      <td>2.0</td>\n",
       "      <td>6.0</td>\n",
       "      <td>0.0</td>\n",
       "    </tr>\n",
       "    <tr>\n",
       "      <th>68134</th>\n",
       "      <td>0.001635</td>\n",
       "      <td>6.0</td>\n",
       "      <td>0.0</td>\n",
       "      <td>2.0</td>\n",
       "      <td>5.0</td>\n",
       "      <td>0.0</td>\n",
       "    </tr>\n",
       "    <tr>\n",
       "      <th>95597</th>\n",
       "      <td>0.001840</td>\n",
       "      <td>10.0</td>\n",
       "      <td>0.0</td>\n",
       "      <td>2.0</td>\n",
       "      <td>6.0</td>\n",
       "      <td>1.0</td>\n",
       "    </tr>\n",
       "    <tr>\n",
       "      <th>186284</th>\n",
       "      <td>0.001840</td>\n",
       "      <td>5.0</td>\n",
       "      <td>0.0</td>\n",
       "      <td>2.0</td>\n",
       "      <td>6.0</td>\n",
       "      <td>0.0</td>\n",
       "    </tr>\n",
       "    <tr>\n",
       "      <th>110275</th>\n",
       "      <td>0.002180</td>\n",
       "      <td>11.0</td>\n",
       "      <td>0.0</td>\n",
       "      <td>1.0</td>\n",
       "      <td>6.0</td>\n",
       "      <td>1.0</td>\n",
       "    </tr>\n",
       "  </tbody>\n",
       "</table>\n",
       "</div>"
      ],
      "text/plain": [
       "             BMI   Age  MentHlth  GenHlth  Education  HighBP\n",
       "52059   0.002180  11.0       0.0      2.0        6.0     0.0\n",
       "68134   0.001635   6.0       0.0      2.0        5.0     0.0\n",
       "95597   0.001840  10.0       0.0      2.0        6.0     1.0\n",
       "186284  0.001840   5.0       0.0      2.0        6.0     0.0\n",
       "110275  0.002180  11.0       0.0      1.0        6.0     1.0"
      ]
     },
     "execution_count": 8,
     "metadata": {},
     "output_type": "execute_result"
    }
   ],
   "source": [
    "# check \n",
    "print(iv_train_1.shape)\n",
    "iv_train_1.head(5)"
   ]
  },
  {
   "cell_type": "markdown",
   "id": "fc4b6bb1-c617-4f10-9b35-3aa77c01928c",
   "metadata": {},
   "source": [
    "### Random Forest"
   ]
  },
  {
   "cell_type": "code",
   "execution_count": 9,
   "id": "981dd30c-d1f3-4c08-b32f-9865a3658eee",
   "metadata": {},
   "outputs": [],
   "source": [
    "def random_forest(iv_train, iv_test, dv_train, dv_test, N):\n",
    "    rf = RandomForestClassifier(n_estimators = N, random_state = 42)\n",
    "    random_forest_fit=rf.fit(iv_train, dv_train)\n",
    "    pred = rf.predict(iv_test)\n",
    "    return random_forest_fit, pred"
   ]
  },
  {
   "cell_type": "code",
   "execution_count": 10,
   "id": "00037b4c-48b0-45e4-8194-778ce1acd025",
   "metadata": {},
   "outputs": [],
   "source": [
    "# fitting random forest model with varying number of trees: 300 to 1000.\n",
    "rand_for_fit1, rf_pred_1 = random_forest(iv_train_1, iv_test_1, dv_train_1, dv_test_1, 500)\n",
    "\n",
    "rand_for_fit2, rf_pred_2 = random_forest(iv_train_1, iv_test_1, dv_train_1, dv_test_1, 700)\n",
    "\n",
    "rand_for_fit3, rf_pred_3 = random_forest(iv_train_1, iv_test_1, dv_train_1, dv_test_1, 1000)\n",
    "\n",
    "rand_for_fit4, rf_pred_4 = random_forest(iv_train_1, iv_test_1, dv_train_1, dv_test_1, 300)"
   ]
  },
  {
   "cell_type": "code",
   "execution_count": 11,
   "id": "78e1fd31",
   "metadata": {},
   "outputs": [],
   "source": [
    "# defining evaluation function\n",
    "\n",
    "def eval(dv_test, pred):\n",
    "    # Precision without averaging\n",
    "    precision = precision_score(dv_test, pred, average=None)\n",
    "    # Round the precision values\n",
    "    precision = [round(p, 4) for p in precision]\n",
    "    \n",
    "    # Recall without averaging\n",
    "    recall = recall_score(dv_test, pred, average=None)\n",
    "    # Round the recall values\n",
    "    recall = [round(r, 4) for r in recall]\n",
    "    \n",
    "    # Accuracy without averaging\n",
    "    accuracy = round(accuracy_score(dv_test, pred), 4)\n",
    "    \n",
    "    print('Precision Scores for each class:', precision)\n",
    "    print('Recall Scores for each class:', recall)\n",
    "    print('Accuracy Score:', accuracy)\n",
    "    \n",
    "    # Confusion matrix\n",
    "    cmtx = pd.DataFrame(\n",
    "        confusion_matrix(dv_test, pred, labels=[1, 0]), \n",
    "        index=['dv_test: positive', 'dv_test: negative'], \n",
    "        columns=['pred: positive', 'pred: negative']\n",
    "    )\n",
    "    print(cmtx)\n"
   ]
  },
  {
   "cell_type": "code",
   "execution_count": 24,
   "id": "1f61ca8b",
   "metadata": {},
   "outputs": [
    {
     "name": "stdout",
     "output_type": "stream",
     "text": [
      "Precision Scores for each class: [0.8649, 0.4372]\n",
      "Recall Scores for each class: [0.9504, 0.2062]\n",
      "Accuracy Score: 0.8331\n",
      "                   pred: positive  pred: negative\n",
      "dv_test: positive            2473            9520\n",
      "dv_test: negative            3183           60928\n",
      "\n",
      "Precision Scores for each class: [0.8648, 0.4371]\n",
      "Recall Scores for each class: [0.9504, 0.2059]\n",
      "Accuracy Score: 0.8331\n",
      "                   pred: positive  pred: negative\n",
      "dv_test: positive            2469            9524\n",
      "dv_test: negative            3180           60931\n",
      "\n",
      "Precision Scores for each class: [0.8646, 0.4361]\n",
      "Recall Scores for each class: [0.9506, 0.204]\n",
      "Accuracy Score: 0.833\n",
      "                   pred: positive  pred: negative\n",
      "dv_test: positive            2447            9546\n",
      "dv_test: negative            3164           60947\n",
      "\n",
      "Precision Scores for each class: [0.8649, 0.4375]\n",
      "Recall Scores for each class: [0.9503, 0.2065]\n",
      "Accuracy Score: 0.8331\n",
      "                   pred: positive  pred: negative\n",
      "dv_test: positive            2477            9516\n",
      "dv_test: negative            3185           60926\n"
     ]
    }
   ],
   "source": [
    "eval(dv_test_1,rf_pred_1)\n",
    "print()\n",
    "eval(dv_test_1,rf_pred_2)\n",
    "print()\n",
    "eval(dv_test_1,rf_pred_3)\n",
    "print()\n",
    "eval(dv_test_1,rf_pred_4)"
   ]
  },
  {
   "cell_type": "markdown",
   "id": "026c6615",
   "metadata": {},
   "source": [
    "The model performing the best included 300 estimators. The important class of positive diabetes are correctly classified only 20.7% of the time, while negative diabetes prognosis is more commonly predicted correctly. The false positives are less important than false negatives as the treatment should be given to the patients with diabetes as fast as possible. Further the cutoff value of the chosen model will be evaluated."
   ]
  },
  {
   "cell_type": "code",
   "execution_count": 12,
   "id": "b4a908ea",
   "metadata": {},
   "outputs": [],
   "source": [
    "def random_forest_co(iv_train, iv_test, dv_train, dv_test, N, cutoff):\n",
    "    rf = RandomForestClassifier(n_estimators = N, random_state = 42)\n",
    "    random_forest_fit=rf.fit(iv_train, dv_train)\n",
    "    pred_probab=rf.predict_proba(iv_test)\n",
    "    pred_probabs = (pred_probab[:, 1] >= cutoff).astype(int)\n",
    "    return random_forest_fit, pred_probabs"
   ]
  },
  {
   "cell_type": "code",
   "execution_count": 13,
   "id": "9c305bc9",
   "metadata": {},
   "outputs": [],
   "source": [
    "# fitting random forest model with varying cut-off value to improve positive predictions:\n",
    "\n",
    "rand_for_fit1_cf, rf_pred_cf_1 = random_forest_co(iv_train_1, iv_test_1, dv_train_1, dv_test_1, 300, 0.3)\n",
    "\n",
    "rand_for_fit2_cf, rf_pred_cf_2 = random_forest_co(iv_train_1, iv_test_1, dv_train_1, dv_test_1, 300, 0.2)\n",
    "\n",
    "rand_for_fit3_cf, rf_pred_cf_3 = random_forest_co(iv_train_1, iv_test_1, dv_train_1, dv_test_1, 300, 0.1)\n",
    "\n",
    "rand_for_fit4_cf, rf_pred_cf_4 = random_forest_co(iv_train_1, iv_test_1, dv_train_1, dv_test_1, 300, 0.05)"
   ]
  },
  {
   "cell_type": "code",
   "execution_count": 27,
   "id": "fdf652b0",
   "metadata": {},
   "outputs": [
    {
     "name": "stdout",
     "output_type": "stream",
     "text": [
      "Precision Scores for each class: [0.8928, 0.367]\n",
      "Recall Scores for each class: [0.8543, 0.4516]\n",
      "Accuracy Score: 0.7908\n",
      "                   pred: positive  pred: negative\n",
      "dv_test: positive            5416            6577\n",
      "dv_test: negative            9343           54768\n",
      "\n",
      "Precision Scores for each class: [0.9137, 0.3279]\n",
      "Recall Scores for each class: [0.7645, 0.614]\n",
      "Accuracy Score: 0.7408\n",
      "                   pred: positive  pred: negative\n",
      "dv_test: positive            7364            4629\n",
      "dv_test: negative           15097           49014\n",
      "\n",
      "Precision Scores for each class: [0.9358, 0.2717]\n",
      "Recall Scores for each class: [0.611, 0.7759]\n",
      "Accuracy Score: 0.637\n",
      "                   pred: positive  pred: negative\n",
      "dv_test: positive            9305            2688\n",
      "dv_test: negative           24941           39170\n",
      "\n",
      "Precision Scores for each class: [0.9474, 0.2385]\n",
      "Recall Scores for each class: [0.4897, 0.8546]\n",
      "Accuracy Score: 0.5472\n",
      "                   pred: positive  pred: negative\n",
      "dv_test: positive           10249            1744\n",
      "dv_test: negative           32716           31395\n"
     ]
    }
   ],
   "source": [
    "eval(dv_test_1,rf_pred_cf_1)\n",
    "print()\n",
    "eval(dv_test_1,rf_pred_cf_2)\n",
    "print()\n",
    "eval(dv_test_1,rf_pred_cf_3)\n",
    "print()\n",
    "eval(dv_test_1,rf_pred_cf_4)"
   ]
  },
  {
   "cell_type": "markdown",
   "id": "4106c661",
   "metadata": {},
   "source": [
    "An estimated 44.7% of people globally are unaware of their diabetes. This number could potentially be minimised with models 2 to 4. However, the models do provide a high number of false positives,hurting the accuracy of the overall model. For the important class classification, the model nr. 4 was chosen. The percentage of false positives is very high, however the prediction of diabetes has improved and model can be further improved through addition of more data about diabetes."
   ]
  },
  {
   "cell_type": "markdown",
   "id": "54ea53a4-527e-427d-9dad-0b32c65689bf",
   "metadata": {},
   "source": [
    "### SVM"
   ]
  },
  {
   "cell_type": "code",
   "execution_count": 28,
   "id": "c89d2742-2132-46bb-a024-0198b2058762",
   "metadata": {},
   "outputs": [],
   "source": [
    "def support_vector(iv_train, iv_test, dv_train, dv_test,C):\n",
    "    svm = SVC(kernel = 'rbf', C = C) # test with varying C values.\n",
    "    svm_fit=svm.fit(iv_train, dv_train)\n",
    "    pred = svm.predict(iv_test)\n",
    "    return svm_fit, pred"
   ]
  },
  {
   "cell_type": "code",
   "execution_count": null,
   "id": "ad639b5e-2fef-4075-b66d-2a7edf17c7c1",
   "metadata": {},
   "outputs": [],
   "source": [
    "# fitting support vector machines model with different C parameters, kernel \"rfb\"\n",
    "fit_1_svm, svm_pred_1 = support_vector(iv_train_1, iv_test_1, dv_train_1, dv_test_1,10)"
   ]
  },
  {
   "cell_type": "code",
   "execution_count": 14,
   "id": "8efa53a0",
   "metadata": {},
   "outputs": [],
   "source": [
    "fit_2_svm, svm_pred_2 = support_vector(iv_train_1, iv_test_1, dv_train_1, dv_test_1,30)"
   ]
  },
  {
   "cell_type": "code",
   "execution_count": 13,
   "id": "67cce95b",
   "metadata": {},
   "outputs": [],
   "source": [
    "fit_3_svm, svm_pred_3 = support_vector(iv_train_1, iv_test_1, dv_train_1, dv_test_1,5)"
   ]
  },
  {
   "cell_type": "code",
   "execution_count": null,
   "id": "05bff7e7",
   "metadata": {},
   "outputs": [],
   "source": [
    "eval(dv_test_1,svm_pred_1)\n",
    "print()\n",
    "eval(dv_test_1,svm_pred_2)\n",
    "print()\n",
    "eval(dv_test_1,svm_pred_3)"
   ]
  },
  {
   "cell_type": "markdown",
   "id": "113e4d8b",
   "metadata": {},
   "source": [
    "Models performed in a similar fassion, the decision boundry assigns all values to the majority class."
   ]
  },
  {
   "cell_type": "markdown",
   "id": "4632b5c5-b1f2-45cb-bb28-677d9a233114",
   "metadata": {},
   "source": [
    "### LR"
   ]
  },
  {
   "cell_type": "code",
   "execution_count": 14,
   "id": "f2eb7ee6-b869-4017-aa7d-3d44007e74ea",
   "metadata": {},
   "outputs": [],
   "source": [
    "def lr(iv_train, iv_test, dv_train, dv_test):\n",
    "    lr = LogisticRegression(solver = 'lbfgs', random_state = 42)\n",
    "    the_fit= lr.fit(iv_train, dv_train)\n",
    "    pred = lr.predict(iv_test)\n",
    "    return the_fit, pred"
   ]
  },
  {
   "cell_type": "code",
   "execution_count": 15,
   "id": "10a6cd31-2aae-4ab9-b028-3b8c9cb128c9",
   "metadata": {},
   "outputs": [],
   "source": [
    "# fitting logistic regression model\n",
    "lr_fit_1, lr_pred_1 = lr(iv_train_1, iv_test_1, dv_train_1, dv_test_1)"
   ]
  },
  {
   "cell_type": "markdown",
   "id": "8acb7107-7e35-4f10-8026-8b552e517b4c",
   "metadata": {},
   "source": [
    "### Model Evaluation"
   ]
  },
  {
   "cell_type": "markdown",
   "id": "b6de74c1-966a-4b1b-a855-778ebd503fe0",
   "metadata": {},
   "source": [
    "Metrics used:\n",
    "1. Precision\n",
    "2. Recall\n",
    "3. Confusion matrix\n",
    "4. Accuracy"
   ]
  },
  {
   "cell_type": "code",
   "execution_count": 45,
   "id": "cb947519-c947-40b1-b7bd-d0c7ace24ebe",
   "metadata": {},
   "outputs": [
    {
     "name": "stdout",
     "output_type": "stream",
     "text": [
      "Random Forest: \n",
      "Precision Scores for each class: [0.9474, 0.2386]\n",
      "Recall Scores for each class: [0.4899, 0.8547]\n",
      "Accuracy Score: 0.5474\n",
      "                   pred: positive  pred: negative\n",
      "dv_test: positive           10250            1743\n",
      "dv_test: negative           32703           31408\n",
      "\n",
      "SVM, C=5: \n",
      "Precision Scores for each class: [0.8424, 0.0]\n",
      "Recall Scores for each class: [1.0, 0.0]\n",
      "Accuracy Score: 0.8424\n",
      "                   pred: positive  pred: negative\n",
      "dv_test: positive               0           11993\n",
      "dv_test: negative               0           64111\n",
      "\n",
      "LR with original dataset: \n",
      "Precision Scores for each class: [0.854, 0.467]\n",
      "Recall Scores for each class: [0.9772, 0.1066]\n",
      "Accuracy Score: 0.84\n",
      "                   pred: positive  pred: negative\n",
      "dv_test: positive            1279           10714\n",
      "dv_test: negative            1460           62651\n",
      "\n"
     ]
    }
   ],
   "source": [
    "print('Random Forest: ')\n",
    "eval(dv_test_1, rf_pred_cf_4)\n",
    "print() # line break\n",
    "print('SVM, C=5: ')\n",
    "eval(dv_test_1, svm_pred_3)\n",
    "print() # line break\n",
    "print('LR with original dataset: ')\n",
    "eval(dv_test_1, lr_pred_1)\n",
    "print()"
   ]
  },
  {
   "cell_type": "markdown",
   "id": "0bc33be2-b553-4c67-b0b7-721f341d9084",
   "metadata": {},
   "source": [
    "\n",
    "- Overall, the accuracy scores of the models have no significant difference before tuning.\n",
    "- SVM tends to predict all classes to negatives. This indicates that the creation of decision boundry is a complex problem. More datapoints could improve the performance of predicting diabetes.\n",
    "- It is of utmost importance that diabetes is classified correctly. As recall indicates out of all truly positive outcomes, how many were correctly predicted, this is the decision factor. The tuned random forest model has the best recall with 85% and therefore is chosen."
   ]
  },
  {
   "cell_type": "markdown",
   "id": "23f4ca4f",
   "metadata": {},
   "source": [
    "Testing chosen Random Forest model on new data from 2021 CDC Survey. (Preprocessed in CDC_dataset jupyter notebook)"
   ]
  },
  {
   "cell_type": "code",
   "execution_count": 16,
   "id": "183883cc",
   "metadata": {},
   "outputs": [],
   "source": [
    "cdc_2021=pd.read_csv('2021_CDC_test.csv')"
   ]
  },
  {
   "cell_type": "code",
   "execution_count": 17,
   "id": "90a10cb9",
   "metadata": {},
   "outputs": [],
   "source": [
    "# splitting data\n",
    "iv = cdc_2021.drop('Diabetes_binary', axis = 1)\n",
    "dv = cdc_2021['Diabetes_binary']"
   ]
  },
  {
   "cell_type": "code",
   "execution_count": 18,
   "id": "ae7b7dc2",
   "metadata": {},
   "outputs": [],
   "source": [
    "logistic_Reg_test=lr_fit_1.predict(iv)"
   ]
  },
  {
   "cell_type": "code",
   "execution_count": 19,
   "id": "64d3fd5f",
   "metadata": {},
   "outputs": [],
   "source": [
    "probs=rand_for_fit4_cf.predict_proba(iv)\n",
    "random_forest_test=(probs[:, 1] >= 0.05).astype(int)"
   ]
  },
  {
   "cell_type": "code",
   "execution_count": 20,
   "id": "d7ef099d",
   "metadata": {},
   "outputs": [
    {
     "name": "stdout",
     "output_type": "stream",
     "text": [
      "\n",
      "Random Forest Result\n",
      "Precision Scores for each class: [0.918, 0.2733]\n",
      "Recall Scores for each class: [0.6304, 0.7116]\n",
      "Accuracy Score: 0.6437\n",
      "                   pred: positive  pred: negative\n",
      "dv_test: positive           43941           17809\n",
      "dv_test: negative          116827          199280\n",
      "\n",
      "Logistic Regression Result\n",
      "Precision Scores for each class: [0.8462, 0.4619]\n",
      "Recall Scores for each class: [0.9799, 0.0882]\n",
      "Accuracy Score: 0.8342\n",
      "                   pred: positive  pred: negative\n",
      "dv_test: positive            5446           56304\n",
      "dv_test: negative            6344          309763\n"
     ]
    }
   ],
   "source": [
    "print()\n",
    "print(\"Random Forest Result\")\n",
    "eval(dv, random_forest_test)\n",
    "print()\n",
    "print(\"Logistic Regression Result\")\n",
    "eval(dv, logistic_Reg_test)"
   ]
  },
  {
   "cell_type": "markdown",
   "id": "965c5f0e",
   "metadata": {},
   "source": [
    "The Random Forest Model performs best, with a lower accuracy of 64%, but higher recall of 71%."
   ]
  }
 ],
 "metadata": {
  "kernelspec": {
   "display_name": "Python 3 (ipykernel)",
   "language": "python",
   "name": "python3"
  },
  "language_info": {
   "codemirror_mode": {
    "name": "ipython",
    "version": 3
   },
   "file_extension": ".py",
   "mimetype": "text/x-python",
   "name": "python",
   "nbconvert_exporter": "python",
   "pygments_lexer": "ipython3",
   "version": "3.11.8"
  }
 },
 "nbformat": 4,
 "nbformat_minor": 5
}
