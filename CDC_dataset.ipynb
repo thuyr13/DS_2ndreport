{
 "cells": [
  {
   "cell_type": "code",
   "execution_count": 3,
   "id": "6eaae451-2da4-4b0d-a865-765fe8c75dc0",
   "metadata": {},
   "outputs": [],
   "source": [
    "import pandas as pd\n",
    "import numpy as np\n",
    "\n",
    "import warnings\n",
    "warnings.filterwarnings('ignore')"
   ]
  },
  {
   "cell_type": "code",
   "execution_count": 31,
   "id": "5120bf1f-5801-4c7e-a1ba-1a4c857f94c0",
   "metadata": {},
   "outputs": [
    {
     "name": "stdout",
     "output_type": "stream",
     "text": [
      "(441456, 330)\n"
     ]
    },
    {
     "data": {
      "text/html": [
       "<div>\n",
       "<style scoped>\n",
       "    .dataframe tbody tr th:only-of-type {\n",
       "        vertical-align: middle;\n",
       "    }\n",
       "\n",
       "    .dataframe tbody tr th {\n",
       "        vertical-align: top;\n",
       "    }\n",
       "\n",
       "    .dataframe thead th {\n",
       "        text-align: right;\n",
       "    }\n",
       "</style>\n",
       "<table border=\"1\" class=\"dataframe\">\n",
       "  <thead>\n",
       "    <tr style=\"text-align: right;\">\n",
       "      <th></th>\n",
       "      <th>_STATE</th>\n",
       "      <th>FMONTH</th>\n",
       "      <th>IDATE</th>\n",
       "      <th>IMONTH</th>\n",
       "      <th>IDAY</th>\n",
       "      <th>IYEAR</th>\n",
       "      <th>DISPCODE</th>\n",
       "      <th>SEQNO</th>\n",
       "      <th>_PSU</th>\n",
       "      <th>CTELENUM</th>\n",
       "      <th>...</th>\n",
       "      <th>_PAREC1</th>\n",
       "      <th>_PASTAE1</th>\n",
       "      <th>_LMTACT1</th>\n",
       "      <th>_LMTWRK1</th>\n",
       "      <th>_LMTSCL1</th>\n",
       "      <th>_RFSEAT2</th>\n",
       "      <th>_RFSEAT3</th>\n",
       "      <th>_FLSHOT6</th>\n",
       "      <th>_PNEUMO2</th>\n",
       "      <th>_AIDTST3</th>\n",
       "    </tr>\n",
       "  </thead>\n",
       "  <tbody>\n",
       "    <tr>\n",
       "      <th>0</th>\n",
       "      <td>1.0</td>\n",
       "      <td>1.0</td>\n",
       "      <td>b'01292015'</td>\n",
       "      <td>b'01'</td>\n",
       "      <td>b'29'</td>\n",
       "      <td>b'2015'</td>\n",
       "      <td>1200.0</td>\n",
       "      <td>2.015000e+09</td>\n",
       "      <td>2.015000e+09</td>\n",
       "      <td>1.0</td>\n",
       "      <td>...</td>\n",
       "      <td>4.0</td>\n",
       "      <td>2.0</td>\n",
       "      <td>1.0</td>\n",
       "      <td>1.0</td>\n",
       "      <td>1.0</td>\n",
       "      <td>1.0</td>\n",
       "      <td>1.0</td>\n",
       "      <td>NaN</td>\n",
       "      <td>NaN</td>\n",
       "      <td>1.0</td>\n",
       "    </tr>\n",
       "    <tr>\n",
       "      <th>1</th>\n",
       "      <td>1.0</td>\n",
       "      <td>1.0</td>\n",
       "      <td>b'01202015'</td>\n",
       "      <td>b'01'</td>\n",
       "      <td>b'20'</td>\n",
       "      <td>b'2015'</td>\n",
       "      <td>1100.0</td>\n",
       "      <td>2.015000e+09</td>\n",
       "      <td>2.015000e+09</td>\n",
       "      <td>1.0</td>\n",
       "      <td>...</td>\n",
       "      <td>2.0</td>\n",
       "      <td>2.0</td>\n",
       "      <td>3.0</td>\n",
       "      <td>3.0</td>\n",
       "      <td>4.0</td>\n",
       "      <td>2.0</td>\n",
       "      <td>2.0</td>\n",
       "      <td>NaN</td>\n",
       "      <td>NaN</td>\n",
       "      <td>2.0</td>\n",
       "    </tr>\n",
       "    <tr>\n",
       "      <th>2</th>\n",
       "      <td>1.0</td>\n",
       "      <td>1.0</td>\n",
       "      <td>b'02012015'</td>\n",
       "      <td>b'02'</td>\n",
       "      <td>b'01'</td>\n",
       "      <td>b'2015'</td>\n",
       "      <td>1200.0</td>\n",
       "      <td>2.015000e+09</td>\n",
       "      <td>2.015000e+09</td>\n",
       "      <td>1.0</td>\n",
       "      <td>...</td>\n",
       "      <td>9.0</td>\n",
       "      <td>9.0</td>\n",
       "      <td>9.0</td>\n",
       "      <td>9.0</td>\n",
       "      <td>9.0</td>\n",
       "      <td>9.0</td>\n",
       "      <td>9.0</td>\n",
       "      <td>9.0</td>\n",
       "      <td>9.0</td>\n",
       "      <td>NaN</td>\n",
       "    </tr>\n",
       "    <tr>\n",
       "      <th>3</th>\n",
       "      <td>1.0</td>\n",
       "      <td>1.0</td>\n",
       "      <td>b'01142015'</td>\n",
       "      <td>b'01'</td>\n",
       "      <td>b'14'</td>\n",
       "      <td>b'2015'</td>\n",
       "      <td>1100.0</td>\n",
       "      <td>2.015000e+09</td>\n",
       "      <td>2.015000e+09</td>\n",
       "      <td>1.0</td>\n",
       "      <td>...</td>\n",
       "      <td>4.0</td>\n",
       "      <td>2.0</td>\n",
       "      <td>1.0</td>\n",
       "      <td>1.0</td>\n",
       "      <td>1.0</td>\n",
       "      <td>1.0</td>\n",
       "      <td>1.0</td>\n",
       "      <td>NaN</td>\n",
       "      <td>NaN</td>\n",
       "      <td>9.0</td>\n",
       "    </tr>\n",
       "    <tr>\n",
       "      <th>4</th>\n",
       "      <td>1.0</td>\n",
       "      <td>1.0</td>\n",
       "      <td>b'01142015'</td>\n",
       "      <td>b'01'</td>\n",
       "      <td>b'14'</td>\n",
       "      <td>b'2015'</td>\n",
       "      <td>1100.0</td>\n",
       "      <td>2.015000e+09</td>\n",
       "      <td>2.015000e+09</td>\n",
       "      <td>1.0</td>\n",
       "      <td>...</td>\n",
       "      <td>4.0</td>\n",
       "      <td>2.0</td>\n",
       "      <td>1.0</td>\n",
       "      <td>1.0</td>\n",
       "      <td>1.0</td>\n",
       "      <td>1.0</td>\n",
       "      <td>1.0</td>\n",
       "      <td>NaN</td>\n",
       "      <td>NaN</td>\n",
       "      <td>1.0</td>\n",
       "    </tr>\n",
       "  </tbody>\n",
       "</table>\n",
       "<p>5 rows × 330 columns</p>\n",
       "</div>"
      ],
      "text/plain": [
       "   _STATE  FMONTH        IDATE IMONTH   IDAY    IYEAR  DISPCODE         SEQNO  \\\n",
       "0     1.0     1.0  b'01292015'  b'01'  b'29'  b'2015'    1200.0  2.015000e+09   \n",
       "1     1.0     1.0  b'01202015'  b'01'  b'20'  b'2015'    1100.0  2.015000e+09   \n",
       "2     1.0     1.0  b'02012015'  b'02'  b'01'  b'2015'    1200.0  2.015000e+09   \n",
       "3     1.0     1.0  b'01142015'  b'01'  b'14'  b'2015'    1100.0  2.015000e+09   \n",
       "4     1.0     1.0  b'01142015'  b'01'  b'14'  b'2015'    1100.0  2.015000e+09   \n",
       "\n",
       "           _PSU  CTELENUM  ...  _PAREC1  _PASTAE1  _LMTACT1  _LMTWRK1  \\\n",
       "0  2.015000e+09       1.0  ...      4.0       2.0       1.0       1.0   \n",
       "1  2.015000e+09       1.0  ...      2.0       2.0       3.0       3.0   \n",
       "2  2.015000e+09       1.0  ...      9.0       9.0       9.0       9.0   \n",
       "3  2.015000e+09       1.0  ...      4.0       2.0       1.0       1.0   \n",
       "4  2.015000e+09       1.0  ...      4.0       2.0       1.0       1.0   \n",
       "\n",
       "   _LMTSCL1  _RFSEAT2  _RFSEAT3  _FLSHOT6  _PNEUMO2  _AIDTST3  \n",
       "0       1.0       1.0       1.0       NaN       NaN       1.0  \n",
       "1       4.0       2.0       2.0       NaN       NaN       2.0  \n",
       "2       9.0       9.0       9.0       9.0       9.0       NaN  \n",
       "3       1.0       1.0       1.0       NaN       NaN       9.0  \n",
       "4       1.0       1.0       1.0       NaN       NaN       1.0  \n",
       "\n",
       "[5 rows x 330 columns]"
      ]
     },
     "execution_count": 31,
     "metadata": {},
     "output_type": "execute_result"
    }
   ],
   "source": [
    "df2015 = pd.read_sas(\"LLCP2015.XPT\")\n",
    "print(df2015.shape)\n",
    "df2015.head(5)"
   ]
  },
  {
   "cell_type": "markdown",
   "id": "f5926df5-0b4e-45f6-8b6b-562bf70a711c",
   "metadata": {},
   "source": [
    "### clean data a bit"
   ]
  },
  {
   "cell_type": "code",
   "execution_count": 32,
   "id": "64d56ee4-46ee-42c0-b249-a3257a1c1b0e",
   "metadata": {},
   "outputs": [
    {
     "name": "stdout",
     "output_type": "stream",
     "text": [
      "(441456, 6)\n"
     ]
    },
    {
     "data": {
      "text/html": [
       "<div>\n",
       "<style scoped>\n",
       "    .dataframe tbody tr th:only-of-type {\n",
       "        vertical-align: middle;\n",
       "    }\n",
       "\n",
       "    .dataframe tbody tr th {\n",
       "        vertical-align: top;\n",
       "    }\n",
       "\n",
       "    .dataframe thead th {\n",
       "        text-align: right;\n",
       "    }\n",
       "</style>\n",
       "<table border=\"1\" class=\"dataframe\">\n",
       "  <thead>\n",
       "    <tr style=\"text-align: right;\">\n",
       "      <th></th>\n",
       "      <th>_RFHYPE5</th>\n",
       "      <th>GENHLTH</th>\n",
       "      <th>_BMI5</th>\n",
       "      <th>_AGEG5YR</th>\n",
       "      <th>TOLDHI2</th>\n",
       "      <th>DIABETE3</th>\n",
       "    </tr>\n",
       "  </thead>\n",
       "  <tbody>\n",
       "    <tr>\n",
       "      <th>0</th>\n",
       "      <td>2.0</td>\n",
       "      <td>5.0</td>\n",
       "      <td>4018.0</td>\n",
       "      <td>9.0</td>\n",
       "      <td>1.0</td>\n",
       "      <td>3.0</td>\n",
       "    </tr>\n",
       "    <tr>\n",
       "      <th>1</th>\n",
       "      <td>1.0</td>\n",
       "      <td>3.0</td>\n",
       "      <td>2509.0</td>\n",
       "      <td>7.0</td>\n",
       "      <td>2.0</td>\n",
       "      <td>3.0</td>\n",
       "    </tr>\n",
       "    <tr>\n",
       "      <th>2</th>\n",
       "      <td>1.0</td>\n",
       "      <td>4.0</td>\n",
       "      <td>2204.0</td>\n",
       "      <td>11.0</td>\n",
       "      <td>1.0</td>\n",
       "      <td>3.0</td>\n",
       "    </tr>\n",
       "    <tr>\n",
       "      <th>3</th>\n",
       "      <td>2.0</td>\n",
       "      <td>5.0</td>\n",
       "      <td>2819.0</td>\n",
       "      <td>9.0</td>\n",
       "      <td>1.0</td>\n",
       "      <td>3.0</td>\n",
       "    </tr>\n",
       "    <tr>\n",
       "      <th>4</th>\n",
       "      <td>1.0</td>\n",
       "      <td>5.0</td>\n",
       "      <td>2437.0</td>\n",
       "      <td>9.0</td>\n",
       "      <td>2.0</td>\n",
       "      <td>3.0</td>\n",
       "    </tr>\n",
       "  </tbody>\n",
       "</table>\n",
       "</div>"
      ],
      "text/plain": [
       "   _RFHYPE5  GENHLTH   _BMI5  _AGEG5YR  TOLDHI2  DIABETE3\n",
       "0       2.0      5.0  4018.0       9.0      1.0       3.0\n",
       "1       1.0      3.0  2509.0       7.0      2.0       3.0\n",
       "2       1.0      4.0  2204.0      11.0      1.0       3.0\n",
       "3       2.0      5.0  2819.0       9.0      1.0       3.0\n",
       "4       1.0      5.0  2437.0       9.0      2.0       3.0"
      ]
     },
     "execution_count": 32,
     "metadata": {},
     "output_type": "execute_result"
    }
   ],
   "source": [
    "# filter 5 features: HighBP, GenHlth, BMI, Age, HighChol\n",
    "brfss_df = df2015[['_RFHYPE5', 'GENHLTH', '_BMI5', '_AGEG5YR', 'TOLDHI2', 'DIABETE3']]\n",
    "print(brfss_df.shape)\n",
    "brfss_df.head(5)"
   ]
  },
  {
   "cell_type": "code",
   "execution_count": 33,
   "id": "abf10a4e-0f04-4151-80ec-5d5a18fa2673",
   "metadata": {},
   "outputs": [
    {
     "data": {
      "text/plain": [
       "(351939, 6)"
      ]
     },
     "execution_count": 33,
     "metadata": {},
     "output_type": "execute_result"
    }
   ],
   "source": [
    "# drop missing data\n",
    "brfss_df_selected = brfss_df.dropna()\n",
    "brfss_df_selected.shape"
   ]
  },
  {
   "cell_type": "code",
   "execution_count": 34,
   "id": "61c88fb2-d4fc-4947-86dc-696f945da22d",
   "metadata": {},
   "outputs": [
    {
     "data": {
      "text/plain": [
       "array([0., 1.])"
      ]
     },
     "execution_count": 34,
     "metadata": {},
     "output_type": "execute_result"
    }
   ],
   "source": [
    "# DIABETE3\n",
    "# going to make this ordinal. 0 is for no diabetes or only during pregnancy, 1 is for pre-diabetes or borderline diabetes or yes diabetes\n",
    "# Remove all 7 (dont knows)\n",
    "# Remove all 9 (refused)\n",
    "brfss_df_selected['DIABETE3'] = brfss_df_selected['DIABETE3'].replace({2:0, 3:0, 4:1})\n",
    "brfss_df_selected = brfss_df_selected[brfss_df_selected.DIABETE3 != 7]\n",
    "brfss_df_selected = brfss_df_selected[brfss_df_selected.DIABETE3 != 9]\n",
    "brfss_df_selected.DIABETE3.unique()"
   ]
  },
  {
   "cell_type": "code",
   "execution_count": 35,
   "id": "cc0d358a-92c6-47ae-a0e8-68418885d802",
   "metadata": {},
   "outputs": [
    {
     "data": {
      "text/plain": [
       "array([1., 0.])"
      ]
     },
     "execution_count": 35,
     "metadata": {},
     "output_type": "execute_result"
    }
   ],
   "source": [
    "# _RFHYPE5\n",
    "#Change 1 to 0 so it represetnts No high blood pressure and 2 to 1 so it represents high blood pressure\n",
    "brfss_df_selected['_RFHYPE5'] = brfss_df_selected['_RFHYPE5'].replace({1:0, 2:1})\n",
    "brfss_df_selected = brfss_df_selected[brfss_df_selected._RFHYPE5 != 9]\n",
    "brfss_df_selected._RFHYPE5.unique()"
   ]
  },
  {
   "cell_type": "code",
   "execution_count": 36,
   "id": "e33bf8a9-6d7d-4630-b022-cb92f4d9fa44",
   "metadata": {},
   "outputs": [
    {
     "data": {
      "text/plain": [
       "array([1., 0.])"
      ]
     },
     "execution_count": 36,
     "metadata": {},
     "output_type": "execute_result"
    }
   ],
   "source": [
    "# TOLDHI2\n",
    "# Change 2 to 0 because it is No\n",
    "# Remove all 7 (dont knows)\n",
    "# Remove all 9 (refused)\n",
    "brfss_df_selected['TOLDHI2'] = brfss_df_selected['TOLDHI2'].replace({2:0})\n",
    "brfss_df_selected = brfss_df_selected[brfss_df_selected.TOLDHI2 != 7]\n",
    "brfss_df_selected = brfss_df_selected[brfss_df_selected.TOLDHI2 != 9]\n",
    "brfss_df_selected.TOLDHI2.unique()"
   ]
  },
  {
   "cell_type": "code",
   "execution_count": 37,
   "id": "410fa1ae-a52b-43ae-9d82-6092ce110bac",
   "metadata": {},
   "outputs": [
    {
     "data": {
      "text/plain": [
       "array([40., 25., 22., 28., 24., 27., 34., 30., 26., 23., 31., 33., 21.,\n",
       "       38., 20., 19., 32., 46., 41., 37., 36., 29., 35., 18., 54., 45.,\n",
       "       39., 47., 16., 43., 55., 49., 42., 17., 48., 44., 50., 59., 15.,\n",
       "       52., 53., 57., 51., 14., 58., 63., 61., 56., 60., 74., 62., 64.,\n",
       "       13., 66., 73., 65., 68., 85., 71., 84., 67., 70., 82., 79., 92.,\n",
       "       72., 88., 96., 81., 12., 77., 95., 69., 75., 91., 76., 87., 89.,\n",
       "       83., 98., 86., 80., 90., 78., 97.])"
      ]
     },
     "execution_count": 37,
     "metadata": {},
     "output_type": "execute_result"
    }
   ],
   "source": [
    "#_BMI5 (no changes, just note that these are BMI * 100. So for example a BMI of 4018 is really 40.18)\n",
    "brfss_df_selected['_BMI5'] = brfss_df_selected['_BMI5'].div(100).round(0)\n",
    "brfss_df_selected._BMI5.unique()"
   ]
  },
  {
   "cell_type": "code",
   "execution_count": 38,
   "id": "43c66b7b-3eb1-4da3-949b-edf4eab14df6",
   "metadata": {},
   "outputs": [
    {
     "data": {
      "text/plain": [
       "array([5., 3., 4., 2., 1.])"
      ]
     },
     "execution_count": 38,
     "metadata": {},
     "output_type": "execute_result"
    }
   ],
   "source": [
    "# GENHLTH\n",
    "# This is an ordinal variable that I want to keep (1 is Excellent -> 5 is Poor)\n",
    "# Remove 7 and 9 for don't know and refused\n",
    "brfss_df_selected = brfss_df_selected[brfss_df_selected.GENHLTH != 7]\n",
    "brfss_df_selected = brfss_df_selected[brfss_df_selected.GENHLTH != 9]\n",
    "brfss_df_selected.GENHLTH.unique()"
   ]
  },
  {
   "cell_type": "code",
   "execution_count": 39,
   "id": "cbde50fb-b68a-4b95-9af8-0d7c227ebd2c",
   "metadata": {},
   "outputs": [
    {
     "data": {
      "text/plain": [
       "array([ 9.,  7., 11., 13., 10., 12.,  8.,  4.,  6.,  2.,  5.,  1.,  3.])"
      ]
     },
     "execution_count": 39,
     "metadata": {},
     "output_type": "execute_result"
    }
   ],
   "source": [
    "# _AGEG5YR\n",
    "# already ordinal. 1 is 18-24 all the way up to 13 wis 80 and older. 5 year increments.\n",
    "# remove 14 because it is don't know or missing\n",
    "brfss_df_selected = brfss_df_selected[brfss_df_selected._AGEG5YR != 14]\n",
    "brfss_df_selected._AGEG5YR.unique()"
   ]
  },
  {
   "cell_type": "code",
   "execution_count": 40,
   "id": "af25ec07-fbea-4f8c-9440-a4fe1ef5284f",
   "metadata": {},
   "outputs": [
    {
     "data": {
      "text/plain": [
       "(344940, 6)"
      ]
     },
     "execution_count": 40,
     "metadata": {},
     "output_type": "execute_result"
    }
   ],
   "source": [
    "brfss_df_selected.shape"
   ]
  },
  {
   "cell_type": "code",
   "execution_count": 42,
   "id": "bc55c68a-8f0c-40c8-be47-9a0155dc0a56",
   "metadata": {},
   "outputs": [
    {
     "name": "stdout",
     "output_type": "stream",
     "text": [
      "(68988, 6)\n"
     ]
    },
    {
     "data": {
      "text/html": [
       "<div>\n",
       "<style scoped>\n",
       "    .dataframe tbody tr th:only-of-type {\n",
       "        vertical-align: middle;\n",
       "    }\n",
       "\n",
       "    .dataframe tbody tr th {\n",
       "        vertical-align: top;\n",
       "    }\n",
       "\n",
       "    .dataframe thead th {\n",
       "        text-align: right;\n",
       "    }\n",
       "</style>\n",
       "<table border=\"1\" class=\"dataframe\">\n",
       "  <thead>\n",
       "    <tr style=\"text-align: right;\">\n",
       "      <th></th>\n",
       "      <th>_RFHYPE5</th>\n",
       "      <th>GENHLTH</th>\n",
       "      <th>_BMI5</th>\n",
       "      <th>_AGEG5YR</th>\n",
       "      <th>TOLDHI2</th>\n",
       "      <th>DIABETE3</th>\n",
       "    </tr>\n",
       "  </thead>\n",
       "  <tbody>\n",
       "    <tr>\n",
       "      <th>162455</th>\n",
       "      <td>1.0</td>\n",
       "      <td>2.0</td>\n",
       "      <td>28.0</td>\n",
       "      <td>10.0</td>\n",
       "      <td>0.0</td>\n",
       "      <td>0.0</td>\n",
       "    </tr>\n",
       "    <tr>\n",
       "      <th>180765</th>\n",
       "      <td>0.0</td>\n",
       "      <td>2.0</td>\n",
       "      <td>21.0</td>\n",
       "      <td>5.0</td>\n",
       "      <td>0.0</td>\n",
       "      <td>0.0</td>\n",
       "    </tr>\n",
       "    <tr>\n",
       "      <th>376279</th>\n",
       "      <td>0.0</td>\n",
       "      <td>2.0</td>\n",
       "      <td>27.0</td>\n",
       "      <td>9.0</td>\n",
       "      <td>1.0</td>\n",
       "      <td>1.0</td>\n",
       "    </tr>\n",
       "    <tr>\n",
       "      <th>11924</th>\n",
       "      <td>0.0</td>\n",
       "      <td>3.0</td>\n",
       "      <td>30.0</td>\n",
       "      <td>8.0</td>\n",
       "      <td>1.0</td>\n",
       "      <td>0.0</td>\n",
       "    </tr>\n",
       "    <tr>\n",
       "      <th>36114</th>\n",
       "      <td>0.0</td>\n",
       "      <td>1.0</td>\n",
       "      <td>32.0</td>\n",
       "      <td>6.0</td>\n",
       "      <td>0.0</td>\n",
       "      <td>0.0</td>\n",
       "    </tr>\n",
       "  </tbody>\n",
       "</table>\n",
       "</div>"
      ],
      "text/plain": [
       "        _RFHYPE5  GENHLTH  _BMI5  _AGEG5YR  TOLDHI2  DIABETE3\n",
       "162455       1.0      2.0   28.0      10.0      0.0       0.0\n",
       "180765       0.0      2.0   21.0       5.0      0.0       0.0\n",
       "376279       0.0      2.0   27.0       9.0      1.0       1.0\n",
       "11924        0.0      3.0   30.0       8.0      1.0       0.0\n",
       "36114        0.0      1.0   32.0       6.0      0.0       0.0"
      ]
     },
     "execution_count": 42,
     "metadata": {},
     "output_type": "execute_result"
    }
   ],
   "source": [
    "# sample 20%\n",
    "data = brfss_df_selected.sample(frac =.2)\n",
    "print(data.shape)\n",
    "data.head(5)"
   ]
  },
  {
   "cell_type": "code",
   "execution_count": 43,
   "id": "b45490ac-9662-4e6d-9e57-6439e2880fcb",
   "metadata": {},
   "outputs": [
    {
     "data": {
      "text/html": [
       "<div>\n",
       "<style scoped>\n",
       "    .dataframe tbody tr th:only-of-type {\n",
       "        vertical-align: middle;\n",
       "    }\n",
       "\n",
       "    .dataframe tbody tr th {\n",
       "        vertical-align: top;\n",
       "    }\n",
       "\n",
       "    .dataframe thead th {\n",
       "        text-align: right;\n",
       "    }\n",
       "</style>\n",
       "<table border=\"1\" class=\"dataframe\">\n",
       "  <thead>\n",
       "    <tr style=\"text-align: right;\">\n",
       "      <th></th>\n",
       "      <th>HighBP</th>\n",
       "      <th>GenHlth</th>\n",
       "      <th>BMI</th>\n",
       "      <th>Age</th>\n",
       "      <th>HighChol</th>\n",
       "      <th>Diabetes_binary</th>\n",
       "    </tr>\n",
       "  </thead>\n",
       "  <tbody>\n",
       "    <tr>\n",
       "      <th>162455</th>\n",
       "      <td>1.0</td>\n",
       "      <td>2.0</td>\n",
       "      <td>28.0</td>\n",
       "      <td>10.0</td>\n",
       "      <td>0.0</td>\n",
       "      <td>0.0</td>\n",
       "    </tr>\n",
       "    <tr>\n",
       "      <th>180765</th>\n",
       "      <td>0.0</td>\n",
       "      <td>2.0</td>\n",
       "      <td>21.0</td>\n",
       "      <td>5.0</td>\n",
       "      <td>0.0</td>\n",
       "      <td>0.0</td>\n",
       "    </tr>\n",
       "    <tr>\n",
       "      <th>376279</th>\n",
       "      <td>0.0</td>\n",
       "      <td>2.0</td>\n",
       "      <td>27.0</td>\n",
       "      <td>9.0</td>\n",
       "      <td>1.0</td>\n",
       "      <td>1.0</td>\n",
       "    </tr>\n",
       "    <tr>\n",
       "      <th>11924</th>\n",
       "      <td>0.0</td>\n",
       "      <td>3.0</td>\n",
       "      <td>30.0</td>\n",
       "      <td>8.0</td>\n",
       "      <td>1.0</td>\n",
       "      <td>0.0</td>\n",
       "    </tr>\n",
       "    <tr>\n",
       "      <th>36114</th>\n",
       "      <td>0.0</td>\n",
       "      <td>1.0</td>\n",
       "      <td>32.0</td>\n",
       "      <td>6.0</td>\n",
       "      <td>0.0</td>\n",
       "      <td>0.0</td>\n",
       "    </tr>\n",
       "  </tbody>\n",
       "</table>\n",
       "</div>"
      ],
      "text/plain": [
       "        HighBP  GenHlth   BMI   Age  HighChol  Diabetes_binary\n",
       "162455     1.0      2.0  28.0  10.0       0.0              0.0\n",
       "180765     0.0      2.0  21.0   5.0       0.0              0.0\n",
       "376279     0.0      2.0  27.0   9.0       1.0              1.0\n",
       "11924      0.0      3.0  30.0   8.0       1.0              0.0\n",
       "36114      0.0      1.0  32.0   6.0       0.0              0.0"
      ]
     },
     "execution_count": 43,
     "metadata": {},
     "output_type": "execute_result"
    }
   ],
   "source": [
    "data.rename(columns = {'GENHLTH':'GenHlth','_RFHYPE5':'HighBP', '_BMI5':'BMI', '_AGEG5YR': 'Age', 'TOLDHI2':'HighChol', 'DIABETE3': 'Diabetes_binary'}, inplace = True)\n",
    "data.head(5)"
   ]
  },
  {
   "cell_type": "code",
   "execution_count": 44,
   "id": "fbfcf676",
   "metadata": {},
   "outputs": [],
   "source": [
    "data.to_csv('2015_CDC.csv',index=False)"
   ]
  },
  {
   "cell_type": "code",
   "execution_count": 14,
   "id": "99a0aafe-c84c-4cda-8c3a-63b1223f0d18",
   "metadata": {},
   "outputs": [],
   "source": [
    "from sklearn.svm import SVC\n",
    "from sklearn.metrics import classification_report \n",
    "from sklearn.model_selection import train_test_split"
   ]
  },
  {
   "cell_type": "code",
   "execution_count": 15,
   "id": "1323e008-f574-4930-997f-b4a1d5d6d09f",
   "metadata": {},
   "outputs": [],
   "source": [
    "x = data.drop('D', axis = 1)\n",
    "y = data['D']\n",
    "x_train, x_test, y_train, y_test = train_test_split(x, y, test_size = 0.3, random_state = 42)"
   ]
  },
  {
   "cell_type": "code",
   "execution_count": 16,
   "id": "d934fe38-459e-463f-8bff-c22f02244982",
   "metadata": {},
   "outputs": [
    {
     "name": "stdout",
     "output_type": "stream",
     "text": [
      "(48291, 5)\n"
     ]
    },
    {
     "data": {
      "text/html": [
       "<div>\n",
       "<style scoped>\n",
       "    .dataframe tbody tr th:only-of-type {\n",
       "        vertical-align: middle;\n",
       "    }\n",
       "\n",
       "    .dataframe tbody tr th {\n",
       "        vertical-align: top;\n",
       "    }\n",
       "\n",
       "    .dataframe thead th {\n",
       "        text-align: right;\n",
       "    }\n",
       "</style>\n",
       "<table border=\"1\" class=\"dataframe\">\n",
       "  <thead>\n",
       "    <tr style=\"text-align: right;\">\n",
       "      <th></th>\n",
       "      <th>HighBP</th>\n",
       "      <th>GENHLTH</th>\n",
       "      <th>BMI</th>\n",
       "      <th>Age</th>\n",
       "      <th>HighChol</th>\n",
       "    </tr>\n",
       "  </thead>\n",
       "  <tbody>\n",
       "    <tr>\n",
       "      <th>367723</th>\n",
       "      <td>0.0</td>\n",
       "      <td>2.0</td>\n",
       "      <td>29.0</td>\n",
       "      <td>9.0</td>\n",
       "      <td>0.0</td>\n",
       "    </tr>\n",
       "    <tr>\n",
       "      <th>126571</th>\n",
       "      <td>0.0</td>\n",
       "      <td>3.0</td>\n",
       "      <td>27.0</td>\n",
       "      <td>13.0</td>\n",
       "      <td>1.0</td>\n",
       "    </tr>\n",
       "    <tr>\n",
       "      <th>184996</th>\n",
       "      <td>1.0</td>\n",
       "      <td>3.0</td>\n",
       "      <td>30.0</td>\n",
       "      <td>13.0</td>\n",
       "      <td>0.0</td>\n",
       "    </tr>\n",
       "  </tbody>\n",
       "</table>\n",
       "</div>"
      ],
      "text/plain": [
       "        HighBP  GENHLTH   BMI   Age  HighChol\n",
       "367723     0.0      2.0  29.0   9.0       0.0\n",
       "126571     0.0      3.0  27.0  13.0       1.0\n",
       "184996     1.0      3.0  30.0  13.0       0.0"
      ]
     },
     "execution_count": 16,
     "metadata": {},
     "output_type": "execute_result"
    }
   ],
   "source": [
    "print(x_train.shape)\n",
    "x_train.head(3)"
   ]
  },
  {
   "cell_type": "code",
   "execution_count": 17,
   "id": "9d0196ca-7f32-4933-abf6-f01fa9452afd",
   "metadata": {},
   "outputs": [],
   "source": [
    "svm = SVC(kernel = 'rbf', C = 100.0)\n",
    "svm.fit(x_train, y_train)\n",
    "pred = svm.predict(x_test)"
   ]
  },
  {
   "cell_type": "code",
   "execution_count": 18,
   "id": "a658952c-1aac-4b5d-b6a1-77a670cc0ef1",
   "metadata": {},
   "outputs": [
    {
     "name": "stdout",
     "output_type": "stream",
     "text": [
      "              precision    recall  f1-score   support\n",
      "\n",
      "         0.0       0.84      1.00      0.91     17312\n",
      "         1.0       0.67      0.05      0.09      3385\n",
      "\n",
      "    accuracy                           0.84     20697\n",
      "   macro avg       0.75      0.52      0.50     20697\n",
      "weighted avg       0.81      0.84      0.78     20697\n",
      "\n"
     ]
    }
   ],
   "source": [
    "print(classification_report(y_test, pred))"
   ]
  },
  {
   "cell_type": "code",
   "execution_count": null,
   "id": "4a4dd404-035c-45d7-85ba-03135d62661a",
   "metadata": {},
   "outputs": [],
   "source": []
  },
  {
   "cell_type": "code",
   "execution_count": null,
   "id": "0ea54d4e-32d7-4612-9682-4faabd1db975",
   "metadata": {},
   "outputs": [],
   "source": []
  },
  {
   "cell_type": "code",
   "execution_count": null,
   "id": "8d6f191b-a99c-44b0-be57-0ea58a5c38e1",
   "metadata": {},
   "outputs": [],
   "source": []
  },
  {
   "cell_type": "code",
   "execution_count": 2,
   "id": "ea2d763c-70a8-4cbc-8879-fac5207cdc52",
   "metadata": {},
   "outputs": [
    {
     "name": "stdout",
     "output_type": "stream",
     "text": [
      "(445132, 328)\n"
     ]
    },
    {
     "data": {
      "text/html": [
       "<div>\n",
       "<style scoped>\n",
       "    .dataframe tbody tr th:only-of-type {\n",
       "        vertical-align: middle;\n",
       "    }\n",
       "\n",
       "    .dataframe tbody tr th {\n",
       "        vertical-align: top;\n",
       "    }\n",
       "\n",
       "    .dataframe thead th {\n",
       "        text-align: right;\n",
       "    }\n",
       "</style>\n",
       "<table border=\"1\" class=\"dataframe\">\n",
       "  <thead>\n",
       "    <tr style=\"text-align: right;\">\n",
       "      <th></th>\n",
       "      <th>_STATE</th>\n",
       "      <th>FMONTH</th>\n",
       "      <th>IDATE</th>\n",
       "      <th>IMONTH</th>\n",
       "      <th>IDAY</th>\n",
       "      <th>IYEAR</th>\n",
       "      <th>DISPCODE</th>\n",
       "      <th>SEQNO</th>\n",
       "      <th>_PSU</th>\n",
       "      <th>CTELENM1</th>\n",
       "      <th>...</th>\n",
       "      <th>_SMOKGRP</th>\n",
       "      <th>_LCSREC</th>\n",
       "      <th>DRNKANY6</th>\n",
       "      <th>DROCDY4_</th>\n",
       "      <th>_RFBING6</th>\n",
       "      <th>_DRNKWK2</th>\n",
       "      <th>_RFDRHV8</th>\n",
       "      <th>_FLSHOT7</th>\n",
       "      <th>_PNEUMO3</th>\n",
       "      <th>_AIDTST4</th>\n",
       "    </tr>\n",
       "  </thead>\n",
       "  <tbody>\n",
       "    <tr>\n",
       "      <th>0</th>\n",
       "      <td>1.0</td>\n",
       "      <td>1.0</td>\n",
       "      <td>b'02032022'</td>\n",
       "      <td>b'02'</td>\n",
       "      <td>b'03'</td>\n",
       "      <td>b'2022'</td>\n",
       "      <td>1100.0</td>\n",
       "      <td>b'2022000001'</td>\n",
       "      <td>2.022000e+09</td>\n",
       "      <td>1.0</td>\n",
       "      <td>...</td>\n",
       "      <td>4.0</td>\n",
       "      <td>NaN</td>\n",
       "      <td>2.0</td>\n",
       "      <td>5.397605e-79</td>\n",
       "      <td>1.0</td>\n",
       "      <td>5.397605e-79</td>\n",
       "      <td>1.0</td>\n",
       "      <td>1.0</td>\n",
       "      <td>2.0</td>\n",
       "      <td>2.0</td>\n",
       "    </tr>\n",
       "    <tr>\n",
       "      <th>1</th>\n",
       "      <td>1.0</td>\n",
       "      <td>1.0</td>\n",
       "      <td>b'02042022'</td>\n",
       "      <td>b'02'</td>\n",
       "      <td>b'04'</td>\n",
       "      <td>b'2022'</td>\n",
       "      <td>1100.0</td>\n",
       "      <td>b'2022000002'</td>\n",
       "      <td>2.022000e+09</td>\n",
       "      <td>1.0</td>\n",
       "      <td>...</td>\n",
       "      <td>4.0</td>\n",
       "      <td>NaN</td>\n",
       "      <td>2.0</td>\n",
       "      <td>5.397605e-79</td>\n",
       "      <td>1.0</td>\n",
       "      <td>5.397605e-79</td>\n",
       "      <td>1.0</td>\n",
       "      <td>2.0</td>\n",
       "      <td>2.0</td>\n",
       "      <td>2.0</td>\n",
       "    </tr>\n",
       "    <tr>\n",
       "      <th>2</th>\n",
       "      <td>1.0</td>\n",
       "      <td>1.0</td>\n",
       "      <td>b'02022022'</td>\n",
       "      <td>b'02'</td>\n",
       "      <td>b'02'</td>\n",
       "      <td>b'2022'</td>\n",
       "      <td>1100.0</td>\n",
       "      <td>b'2022000003'</td>\n",
       "      <td>2.022000e+09</td>\n",
       "      <td>1.0</td>\n",
       "      <td>...</td>\n",
       "      <td>4.0</td>\n",
       "      <td>NaN</td>\n",
       "      <td>2.0</td>\n",
       "      <td>5.397605e-79</td>\n",
       "      <td>1.0</td>\n",
       "      <td>5.397605e-79</td>\n",
       "      <td>1.0</td>\n",
       "      <td>NaN</td>\n",
       "      <td>NaN</td>\n",
       "      <td>2.0</td>\n",
       "    </tr>\n",
       "    <tr>\n",
       "      <th>3</th>\n",
       "      <td>1.0</td>\n",
       "      <td>1.0</td>\n",
       "      <td>b'02032022'</td>\n",
       "      <td>b'02'</td>\n",
       "      <td>b'03'</td>\n",
       "      <td>b'2022'</td>\n",
       "      <td>1100.0</td>\n",
       "      <td>b'2022000004'</td>\n",
       "      <td>2.022000e+09</td>\n",
       "      <td>1.0</td>\n",
       "      <td>...</td>\n",
       "      <td>3.0</td>\n",
       "      <td>2.0</td>\n",
       "      <td>2.0</td>\n",
       "      <td>5.397605e-79</td>\n",
       "      <td>1.0</td>\n",
       "      <td>5.397605e-79</td>\n",
       "      <td>1.0</td>\n",
       "      <td>9.0</td>\n",
       "      <td>9.0</td>\n",
       "      <td>2.0</td>\n",
       "    </tr>\n",
       "    <tr>\n",
       "      <th>4</th>\n",
       "      <td>1.0</td>\n",
       "      <td>1.0</td>\n",
       "      <td>b'02022022'</td>\n",
       "      <td>b'02'</td>\n",
       "      <td>b'02'</td>\n",
       "      <td>b'2022'</td>\n",
       "      <td>1100.0</td>\n",
       "      <td>b'2022000005'</td>\n",
       "      <td>2.022000e+09</td>\n",
       "      <td>1.0</td>\n",
       "      <td>...</td>\n",
       "      <td>4.0</td>\n",
       "      <td>NaN</td>\n",
       "      <td>1.0</td>\n",
       "      <td>1.000000e+01</td>\n",
       "      <td>1.0</td>\n",
       "      <td>1.400000e+02</td>\n",
       "      <td>1.0</td>\n",
       "      <td>NaN</td>\n",
       "      <td>NaN</td>\n",
       "      <td>2.0</td>\n",
       "    </tr>\n",
       "  </tbody>\n",
       "</table>\n",
       "<p>5 rows × 328 columns</p>\n",
       "</div>"
      ],
      "text/plain": [
       "   _STATE  FMONTH        IDATE IMONTH   IDAY    IYEAR  DISPCODE  \\\n",
       "0     1.0     1.0  b'02032022'  b'02'  b'03'  b'2022'    1100.0   \n",
       "1     1.0     1.0  b'02042022'  b'02'  b'04'  b'2022'    1100.0   \n",
       "2     1.0     1.0  b'02022022'  b'02'  b'02'  b'2022'    1100.0   \n",
       "3     1.0     1.0  b'02032022'  b'02'  b'03'  b'2022'    1100.0   \n",
       "4     1.0     1.0  b'02022022'  b'02'  b'02'  b'2022'    1100.0   \n",
       "\n",
       "           SEQNO          _PSU  CTELENM1  ...  _SMOKGRP  _LCSREC  DRNKANY6  \\\n",
       "0  b'2022000001'  2.022000e+09       1.0  ...       4.0      NaN       2.0   \n",
       "1  b'2022000002'  2.022000e+09       1.0  ...       4.0      NaN       2.0   \n",
       "2  b'2022000003'  2.022000e+09       1.0  ...       4.0      NaN       2.0   \n",
       "3  b'2022000004'  2.022000e+09       1.0  ...       3.0      2.0       2.0   \n",
       "4  b'2022000005'  2.022000e+09       1.0  ...       4.0      NaN       1.0   \n",
       "\n",
       "       DROCDY4_  _RFBING6      _DRNKWK2  _RFDRHV8  _FLSHOT7  _PNEUMO3  \\\n",
       "0  5.397605e-79       1.0  5.397605e-79       1.0       1.0       2.0   \n",
       "1  5.397605e-79       1.0  5.397605e-79       1.0       2.0       2.0   \n",
       "2  5.397605e-79       1.0  5.397605e-79       1.0       NaN       NaN   \n",
       "3  5.397605e-79       1.0  5.397605e-79       1.0       9.0       9.0   \n",
       "4  1.000000e+01       1.0  1.400000e+02       1.0       NaN       NaN   \n",
       "\n",
       "   _AIDTST4  \n",
       "0       2.0  \n",
       "1       2.0  \n",
       "2       2.0  \n",
       "3       2.0  \n",
       "4       2.0  \n",
       "\n",
       "[5 rows x 328 columns]"
      ]
     },
     "execution_count": 2,
     "metadata": {},
     "output_type": "execute_result"
    }
   ],
   "source": [
    "df = pd.read_sas(\"LLCP2022.XPT\")  \n",
    "print(df.shape)\n",
    "df.head(5)"
   ]
  },
  {
   "cell_type": "code",
   "execution_count": 3,
   "id": "6b2e1a81-20f0-428c-b0a1-ff57b7cd275d",
   "metadata": {},
   "outputs": [
    {
     "ename": "KeyError",
     "evalue": "\"['_RFHYPE5', 'TOLDHI2'] not in index\"",
     "output_type": "error",
     "traceback": [
      "\u001b[1;31m---------------------------------------------------------------------------\u001b[0m",
      "\u001b[1;31mKeyError\u001b[0m                                  Traceback (most recent call last)",
      "Cell \u001b[1;32mIn[3], line 5\u001b[0m\n\u001b[0;32m      2\u001b[0m df_new \u001b[38;5;241m=\u001b[39m df\u001b[38;5;241m.\u001b[39msample(frac \u001b[38;5;241m=\u001b[39m\u001b[38;5;241m.1\u001b[39m)\n\u001b[0;32m      4\u001b[0m \u001b[38;5;66;03m# filter 5 features: HighBP, GenHlth, BMI, Age, HighChol\u001b[39;00m\n\u001b[1;32m----> 5\u001b[0m df_filter \u001b[38;5;241m=\u001b[39m \u001b[43mdf_new\u001b[49m\u001b[43m[\u001b[49m\u001b[43m[\u001b[49m\u001b[38;5;124;43m'\u001b[39;49m\u001b[38;5;124;43m_RFHYPE5\u001b[39;49m\u001b[38;5;124;43m'\u001b[39;49m\u001b[43m,\u001b[49m\u001b[43m \u001b[49m\u001b[38;5;124;43m'\u001b[39;49m\u001b[38;5;124;43mGENHLTH\u001b[39;49m\u001b[38;5;124;43m'\u001b[39;49m\u001b[43m,\u001b[49m\u001b[43m \u001b[49m\u001b[38;5;124;43m'\u001b[39;49m\u001b[38;5;124;43m_BMI5\u001b[39;49m\u001b[38;5;124;43m'\u001b[39;49m\u001b[43m,\u001b[49m\u001b[43m \u001b[49m\u001b[38;5;124;43m'\u001b[39;49m\u001b[38;5;124;43m_AGEG5YR\u001b[39;49m\u001b[38;5;124;43m'\u001b[39;49m\u001b[43m,\u001b[49m\u001b[43m \u001b[49m\u001b[38;5;124;43m'\u001b[39;49m\u001b[38;5;124;43mTOLDHI2\u001b[39;49m\u001b[38;5;124;43m'\u001b[39;49m\u001b[43m]\u001b[49m\u001b[43m]\u001b[49m\n\u001b[0;32m      6\u001b[0m \u001b[38;5;28mprint\u001b[39m(df_filter\u001b[38;5;241m.\u001b[39mshape)\n\u001b[0;32m      7\u001b[0m df_filter\u001b[38;5;241m.\u001b[39mhead(\u001b[38;5;241m5\u001b[39m)\n",
      "File \u001b[1;32m~\\anaconda3\\Lib\\site-packages\\pandas\\core\\frame.py:4096\u001b[0m, in \u001b[0;36mDataFrame.__getitem__\u001b[1;34m(self, key)\u001b[0m\n\u001b[0;32m   4094\u001b[0m     \u001b[38;5;28;01mif\u001b[39;00m is_iterator(key):\n\u001b[0;32m   4095\u001b[0m         key \u001b[38;5;241m=\u001b[39m \u001b[38;5;28mlist\u001b[39m(key)\n\u001b[1;32m-> 4096\u001b[0m     indexer \u001b[38;5;241m=\u001b[39m \u001b[38;5;28;43mself\u001b[39;49m\u001b[38;5;241;43m.\u001b[39;49m\u001b[43mcolumns\u001b[49m\u001b[38;5;241;43m.\u001b[39;49m\u001b[43m_get_indexer_strict\u001b[49m\u001b[43m(\u001b[49m\u001b[43mkey\u001b[49m\u001b[43m,\u001b[49m\u001b[43m \u001b[49m\u001b[38;5;124;43m\"\u001b[39;49m\u001b[38;5;124;43mcolumns\u001b[39;49m\u001b[38;5;124;43m\"\u001b[39;49m\u001b[43m)\u001b[49m[\u001b[38;5;241m1\u001b[39m]\n\u001b[0;32m   4098\u001b[0m \u001b[38;5;66;03m# take() does not accept boolean indexers\u001b[39;00m\n\u001b[0;32m   4099\u001b[0m \u001b[38;5;28;01mif\u001b[39;00m \u001b[38;5;28mgetattr\u001b[39m(indexer, \u001b[38;5;124m\"\u001b[39m\u001b[38;5;124mdtype\u001b[39m\u001b[38;5;124m\"\u001b[39m, \u001b[38;5;28;01mNone\u001b[39;00m) \u001b[38;5;241m==\u001b[39m \u001b[38;5;28mbool\u001b[39m:\n",
      "File \u001b[1;32m~\\anaconda3\\Lib\\site-packages\\pandas\\core\\indexes\\base.py:6200\u001b[0m, in \u001b[0;36mIndex._get_indexer_strict\u001b[1;34m(self, key, axis_name)\u001b[0m\n\u001b[0;32m   6197\u001b[0m \u001b[38;5;28;01melse\u001b[39;00m:\n\u001b[0;32m   6198\u001b[0m     keyarr, indexer, new_indexer \u001b[38;5;241m=\u001b[39m \u001b[38;5;28mself\u001b[39m\u001b[38;5;241m.\u001b[39m_reindex_non_unique(keyarr)\n\u001b[1;32m-> 6200\u001b[0m \u001b[38;5;28;43mself\u001b[39;49m\u001b[38;5;241;43m.\u001b[39;49m\u001b[43m_raise_if_missing\u001b[49m\u001b[43m(\u001b[49m\u001b[43mkeyarr\u001b[49m\u001b[43m,\u001b[49m\u001b[43m \u001b[49m\u001b[43mindexer\u001b[49m\u001b[43m,\u001b[49m\u001b[43m \u001b[49m\u001b[43maxis_name\u001b[49m\u001b[43m)\u001b[49m\n\u001b[0;32m   6202\u001b[0m keyarr \u001b[38;5;241m=\u001b[39m \u001b[38;5;28mself\u001b[39m\u001b[38;5;241m.\u001b[39mtake(indexer)\n\u001b[0;32m   6203\u001b[0m \u001b[38;5;28;01mif\u001b[39;00m \u001b[38;5;28misinstance\u001b[39m(key, Index):\n\u001b[0;32m   6204\u001b[0m     \u001b[38;5;66;03m# GH 42790 - Preserve name from an Index\u001b[39;00m\n",
      "File \u001b[1;32m~\\anaconda3\\Lib\\site-packages\\pandas\\core\\indexes\\base.py:6252\u001b[0m, in \u001b[0;36mIndex._raise_if_missing\u001b[1;34m(self, key, indexer, axis_name)\u001b[0m\n\u001b[0;32m   6249\u001b[0m     \u001b[38;5;28;01mraise\u001b[39;00m \u001b[38;5;167;01mKeyError\u001b[39;00m(\u001b[38;5;124mf\u001b[39m\u001b[38;5;124m\"\u001b[39m\u001b[38;5;124mNone of [\u001b[39m\u001b[38;5;132;01m{\u001b[39;00mkey\u001b[38;5;132;01m}\u001b[39;00m\u001b[38;5;124m] are in the [\u001b[39m\u001b[38;5;132;01m{\u001b[39;00maxis_name\u001b[38;5;132;01m}\u001b[39;00m\u001b[38;5;124m]\u001b[39m\u001b[38;5;124m\"\u001b[39m)\n\u001b[0;32m   6251\u001b[0m not_found \u001b[38;5;241m=\u001b[39m \u001b[38;5;28mlist\u001b[39m(ensure_index(key)[missing_mask\u001b[38;5;241m.\u001b[39mnonzero()[\u001b[38;5;241m0\u001b[39m]]\u001b[38;5;241m.\u001b[39munique())\n\u001b[1;32m-> 6252\u001b[0m \u001b[38;5;28;01mraise\u001b[39;00m \u001b[38;5;167;01mKeyError\u001b[39;00m(\u001b[38;5;124mf\u001b[39m\u001b[38;5;124m\"\u001b[39m\u001b[38;5;132;01m{\u001b[39;00mnot_found\u001b[38;5;132;01m}\u001b[39;00m\u001b[38;5;124m not in index\u001b[39m\u001b[38;5;124m\"\u001b[39m)\n",
      "\u001b[1;31mKeyError\u001b[0m: \"['_RFHYPE5', 'TOLDHI2'] not in index\""
     ]
    }
   ],
   "source": [
    "# sample 10%\n",
    "df_new = df.sample(frac =.1)\n",
    "\n",
    "# filter 5 features: HighBP, GenHlth, BMI, Age, HighChol\n",
    "df_filter = df_new[['_RFHYPE5', 'GENHLTH', '_BMI5', '_AGEG5YR', 'TOLDHI2']]\n",
    "print(df_filter.shape)\n",
    "df_filter.head(5)"
   ]
  },
  {
   "cell_type": "code",
   "execution_count": 4,
   "id": "20f4ed81-ff42-41d5-9df6-2efeb284d275",
   "metadata": {},
   "outputs": [
    {
     "data": {
      "text/plain": [
       "['_STATE',\n",
       " 'FMONTH',\n",
       " 'IDATE',\n",
       " 'IMONTH',\n",
       " 'IDAY',\n",
       " 'IYEAR',\n",
       " 'DISPCODE',\n",
       " 'SEQNO',\n",
       " '_PSU',\n",
       " 'CTELENM1',\n",
       " 'PVTRESD1',\n",
       " 'COLGHOUS',\n",
       " 'STATERE1',\n",
       " 'CELPHON1',\n",
       " 'LADULT1',\n",
       " 'COLGSEX1',\n",
       " 'NUMADULT',\n",
       " 'LANDSEX1',\n",
       " 'NUMMEN',\n",
       " 'NUMWOMEN',\n",
       " 'RESPSLCT',\n",
       " 'SAFETIME',\n",
       " 'CTELNUM1',\n",
       " 'CELLFON5',\n",
       " 'CADULT1',\n",
       " 'CELLSEX1',\n",
       " 'PVTRESD3',\n",
       " 'CCLGHOUS',\n",
       " 'CSTATE1',\n",
       " 'LANDLINE',\n",
       " 'HHADULT',\n",
       " 'SEXVAR',\n",
       " 'GENHLTH',\n",
       " 'PHYSHLTH',\n",
       " 'MENTHLTH',\n",
       " 'POORHLTH',\n",
       " 'PRIMINSR',\n",
       " 'PERSDOC3',\n",
       " 'MEDCOST1',\n",
       " 'CHECKUP1',\n",
       " 'EXERANY2',\n",
       " 'SLEPTIM1',\n",
       " 'LASTDEN4',\n",
       " 'RMVTETH4',\n",
       " 'CVDINFR4',\n",
       " 'CVDCRHD4',\n",
       " 'CVDSTRK3',\n",
       " 'ASTHMA3',\n",
       " 'ASTHNOW',\n",
       " 'CHCSCNC1',\n",
       " 'CHCOCNC1',\n",
       " 'CHCCOPD3',\n",
       " 'ADDEPEV3',\n",
       " 'CHCKDNY2',\n",
       " 'HAVARTH4',\n",
       " 'DIABETE4',\n",
       " 'DIABAGE4',\n",
       " 'MARITAL',\n",
       " 'EDUCA',\n",
       " 'RENTHOM1',\n",
       " 'NUMHHOL4',\n",
       " 'NUMPHON4',\n",
       " 'CPDEMO1C',\n",
       " 'VETERAN3',\n",
       " 'EMPLOY1',\n",
       " 'CHILDREN',\n",
       " 'INCOME3',\n",
       " 'PREGNANT',\n",
       " 'WEIGHT2',\n",
       " 'HEIGHT3',\n",
       " 'DEAF',\n",
       " 'BLIND',\n",
       " 'DECIDE',\n",
       " 'DIFFWALK',\n",
       " 'DIFFDRES',\n",
       " 'DIFFALON',\n",
       " 'HADMAM',\n",
       " 'HOWLONG',\n",
       " 'CERVSCRN',\n",
       " 'CRVCLCNC',\n",
       " 'CRVCLPAP',\n",
       " 'CRVCLHPV',\n",
       " 'HADHYST2',\n",
       " 'HADSIGM4',\n",
       " 'COLNSIGM',\n",
       " 'COLNTES1',\n",
       " 'SIGMTES1',\n",
       " 'LASTSIG4',\n",
       " 'COLNCNCR',\n",
       " 'VIRCOLO1',\n",
       " 'VCLNTES2',\n",
       " 'SMALSTOL',\n",
       " 'STOLTEST',\n",
       " 'STOOLDN2',\n",
       " 'BLDSTFIT',\n",
       " 'SDNATES1',\n",
       " 'SMOKE100',\n",
       " 'SMOKDAY2',\n",
       " 'USENOW3',\n",
       " 'ECIGNOW2',\n",
       " 'LCSFIRST',\n",
       " 'LCSLAST',\n",
       " 'LCSNUMCG',\n",
       " 'LCSCTSC1',\n",
       " 'LCSSCNCR',\n",
       " 'LCSCTWHN',\n",
       " 'ALCDAY4',\n",
       " 'AVEDRNK3',\n",
       " 'DRNK3GE5',\n",
       " 'MAXDRNKS',\n",
       " 'FLUSHOT7',\n",
       " 'FLSHTMY3',\n",
       " 'PNEUVAC4',\n",
       " 'TETANUS1',\n",
       " 'HIVTST7',\n",
       " 'HIVTSTD3',\n",
       " 'HIVRISK5',\n",
       " 'COVIDPOS',\n",
       " 'COVIDSMP',\n",
       " 'COVIDPRM',\n",
       " 'PDIABTS1',\n",
       " 'PREDIAB2',\n",
       " 'DIABTYPE',\n",
       " 'INSULIN1',\n",
       " 'CHKHEMO3',\n",
       " 'EYEEXAM1',\n",
       " 'DIABEYE1',\n",
       " 'DIABEDU1',\n",
       " 'FEETSORE',\n",
       " 'TOLDCFS',\n",
       " 'HAVECFS',\n",
       " 'WORKCFS',\n",
       " 'IMFVPLA3',\n",
       " 'HPVADVC4',\n",
       " 'HPVADSHT',\n",
       " 'SHINGLE2',\n",
       " 'COVIDVA1',\n",
       " 'COVACGET',\n",
       " 'COVIDNU1',\n",
       " 'COVIDINT',\n",
       " 'COVIDFS1',\n",
       " 'COVIDSE1',\n",
       " 'COPDCOGH',\n",
       " 'COPDFLEM',\n",
       " 'COPDBRTH',\n",
       " 'COPDBTST',\n",
       " 'COPDSMOK',\n",
       " 'CNCRDIFF',\n",
       " 'CNCRAGE',\n",
       " 'CNCRTYP2',\n",
       " 'CSRVTRT3',\n",
       " 'CSRVDOC1',\n",
       " 'CSRVSUM',\n",
       " 'CSRVRTRN',\n",
       " 'CSRVINST',\n",
       " 'CSRVINSR',\n",
       " 'CSRVDEIN',\n",
       " 'CSRVCLIN',\n",
       " 'CSRVPAIN',\n",
       " 'CSRVCTL2',\n",
       " 'PSATEST1',\n",
       " 'PSATIME1',\n",
       " 'PCPSARS2',\n",
       " 'PSASUGST',\n",
       " 'PCSTALK1',\n",
       " 'CIMEMLOS',\n",
       " 'CDHOUSE',\n",
       " 'CDASSIST',\n",
       " 'CDHELP',\n",
       " 'CDSOCIAL',\n",
       " 'CDDISCUS',\n",
       " 'CAREGIV1',\n",
       " 'CRGVREL4',\n",
       " 'CRGVLNG1',\n",
       " 'CRGVHRS1',\n",
       " 'CRGVPRB3',\n",
       " 'CRGVALZD',\n",
       " 'CRGVPER1',\n",
       " 'CRGVHOU1',\n",
       " 'CRGVEXPT',\n",
       " 'ACEDEPRS',\n",
       " 'ACEDRINK',\n",
       " 'ACEDRUGS',\n",
       " 'ACEPRISN',\n",
       " 'ACEDIVRC',\n",
       " 'ACEPUNCH',\n",
       " 'ACEHURT1',\n",
       " 'ACESWEAR',\n",
       " 'ACETOUCH',\n",
       " 'ACETTHEM',\n",
       " 'ACEHVSEX',\n",
       " 'ACEADSAF',\n",
       " 'ACEADNED',\n",
       " 'LSATISFY',\n",
       " 'EMTSUPRT',\n",
       " 'SDHISOLT',\n",
       " 'SDHEMPLY',\n",
       " 'FOODSTMP',\n",
       " 'SDHFOOD1',\n",
       " 'SDHBILLS',\n",
       " 'SDHUTILS',\n",
       " 'SDHTRNSP',\n",
       " 'SDHSTRE1',\n",
       " 'MARIJAN1',\n",
       " 'MARJSMOK',\n",
       " 'MARJEAT',\n",
       " 'MARJVAPE',\n",
       " 'MARJDAB',\n",
       " 'MARJOTHR',\n",
       " 'USEMRJN4',\n",
       " 'LASTSMK2',\n",
       " 'STOPSMK2',\n",
       " 'MENTCIGS',\n",
       " 'MENTECIG',\n",
       " 'HEATTBCO',\n",
       " 'ASBIALCH',\n",
       " 'ASBIDRNK',\n",
       " 'ASBIBING',\n",
       " 'ASBIADVC',\n",
       " 'ASBIRDUC',\n",
       " 'FIREARM5',\n",
       " 'GUNLOAD',\n",
       " 'LOADULK2',\n",
       " 'RCSGEND1',\n",
       " 'RCSXBRTH',\n",
       " 'RCSRLTN2',\n",
       " 'CASTHDX2',\n",
       " 'CASTHNO2',\n",
       " 'BIRTHSEX',\n",
       " 'SOMALE',\n",
       " 'SOFEMALE',\n",
       " 'TRNSGNDR',\n",
       " 'HADSEX',\n",
       " 'PFPPRVN4',\n",
       " 'TYPCNTR9',\n",
       " 'BRTHCNT4',\n",
       " 'WHEREGET',\n",
       " 'NOBCUSE8',\n",
       " 'BCPREFER',\n",
       " 'RRCLASS3',\n",
       " 'RRCOGNT2',\n",
       " 'RRTREAT',\n",
       " 'RRATWRK2',\n",
       " 'RRHCARE4',\n",
       " 'RRPHYSM2',\n",
       " 'QSTVER',\n",
       " 'QSTLANG',\n",
       " '_METSTAT',\n",
       " '_URBSTAT',\n",
       " 'MSCODE',\n",
       " '_STSTR',\n",
       " '_STRWT',\n",
       " '_RAWRAKE',\n",
       " '_WT2RAKE',\n",
       " '_IMPRACE',\n",
       " '_CHISPNC',\n",
       " '_CRACE2',\n",
       " '_CPRACE2',\n",
       " 'CAGEG',\n",
       " '_CLLCPWT',\n",
       " '_DUALUSE',\n",
       " '_DUALCOR',\n",
       " '_LLCPWT2',\n",
       " '_LLCPWT',\n",
       " '_RFHLTH',\n",
       " '_PHYS14D',\n",
       " '_MENT14D',\n",
       " '_HLTHPLN',\n",
       " '_HCVU652',\n",
       " '_TOTINDA',\n",
       " '_EXTETH3',\n",
       " '_ALTETH3',\n",
       " '_DENVST3',\n",
       " '_MICHD',\n",
       " '_LTASTH1',\n",
       " '_CASTHM1',\n",
       " '_ASTHMS1',\n",
       " '_DRDXAR2',\n",
       " '_PRACE2',\n",
       " '_MRACE2',\n",
       " '_HISPANC',\n",
       " '_RACE1',\n",
       " '_RACEG22',\n",
       " '_RACEGR4',\n",
       " '_RACEPR1',\n",
       " '_SEX',\n",
       " '_AGEG5YR',\n",
       " '_AGE65YR',\n",
       " '_AGE80',\n",
       " '_AGE_G',\n",
       " 'HTIN4',\n",
       " 'HTM4',\n",
       " 'WTKG3',\n",
       " '_BMI5',\n",
       " '_BMI5CAT',\n",
       " '_RFBMI5',\n",
       " '_CHLDCNT',\n",
       " '_EDUCAG',\n",
       " '_INCOMG1',\n",
       " '_RFMAM22',\n",
       " '_MAM5023',\n",
       " '_HADCOLN',\n",
       " '_CLNSCP1',\n",
       " '_HADSIGM',\n",
       " '_SGMSCP1',\n",
       " '_SGMS101',\n",
       " '_RFBLDS5',\n",
       " '_STOLDN1',\n",
       " '_VIRCOL1',\n",
       " '_SBONTI1',\n",
       " '_CRCREC2',\n",
       " '_SMOKER3',\n",
       " '_RFSMOK3',\n",
       " '_CURECI2',\n",
       " '_YRSSMOK',\n",
       " '_PACKDAY',\n",
       " '_PACKYRS',\n",
       " '_YRSQUIT',\n",
       " '_SMOKGRP',\n",
       " '_LCSREC',\n",
       " 'DRNKANY6',\n",
       " 'DROCDY4_',\n",
       " '_RFBING6',\n",
       " '_DRNKWK2',\n",
       " '_RFDRHV8',\n",
       " '_FLSHOT7',\n",
       " '_PNEUMO3',\n",
       " '_AIDTST4']"
      ]
     },
     "execution_count": 4,
     "metadata": {},
     "output_type": "execute_result"
    }
   ],
   "source": [
    "df.columns.values.tolist()"
   ]
  },
  {
   "cell_type": "markdown",
   "id": "54b470dd",
   "metadata": {},
   "source": [
    "Data from 2021 to validate the models"
   ]
  },
  {
   "cell_type": "code",
   "execution_count": 5,
   "id": "c0195d49-0ed1-46ad-a70c-04326f60b5c4",
   "metadata": {},
   "outputs": [
    {
     "name": "stdout",
     "output_type": "stream",
     "text": [
      "(438693, 303)\n"
     ]
    }
   ],
   "source": [
    "df1 = pd.read_sas(\"LLCP2021.XPT\")  \n",
    "print(df1.shape)\n",
    "#df.head(5)"
   ]
  },
  {
   "cell_type": "code",
   "execution_count": 19,
   "id": "858c1165",
   "metadata": {},
   "outputs": [
    {
     "name": "stdout",
     "output_type": "stream",
     "text": [
      "(8774, 6)\n"
     ]
    },
    {
     "data": {
      "text/html": [
       "<div>\n",
       "<style scoped>\n",
       "    .dataframe tbody tr th:only-of-type {\n",
       "        vertical-align: middle;\n",
       "    }\n",
       "\n",
       "    .dataframe tbody tr th {\n",
       "        vertical-align: top;\n",
       "    }\n",
       "\n",
       "    .dataframe thead th {\n",
       "        text-align: right;\n",
       "    }\n",
       "</style>\n",
       "<table border=\"1\" class=\"dataframe\">\n",
       "  <thead>\n",
       "    <tr style=\"text-align: right;\">\n",
       "      <th></th>\n",
       "      <th>DIABETE4</th>\n",
       "      <th>_RFHYPE6</th>\n",
       "      <th>GENHLTH</th>\n",
       "      <th>_BMI5</th>\n",
       "      <th>_AGEG5YR</th>\n",
       "      <th>TOLDHI3</th>\n",
       "    </tr>\n",
       "  </thead>\n",
       "  <tbody>\n",
       "    <tr>\n",
       "      <th>187468</th>\n",
       "      <td>3.0</td>\n",
       "      <td>1.0</td>\n",
       "      <td>3.0</td>\n",
       "      <td>3208.0</td>\n",
       "      <td>5.0</td>\n",
       "      <td>2.0</td>\n",
       "    </tr>\n",
       "    <tr>\n",
       "      <th>384200</th>\n",
       "      <td>3.0</td>\n",
       "      <td>1.0</td>\n",
       "      <td>1.0</td>\n",
       "      <td>NaN</td>\n",
       "      <td>3.0</td>\n",
       "      <td>2.0</td>\n",
       "    </tr>\n",
       "    <tr>\n",
       "      <th>26743</th>\n",
       "      <td>3.0</td>\n",
       "      <td>2.0</td>\n",
       "      <td>3.0</td>\n",
       "      <td>NaN</td>\n",
       "      <td>7.0</td>\n",
       "      <td>2.0</td>\n",
       "    </tr>\n",
       "    <tr>\n",
       "      <th>63691</th>\n",
       "      <td>1.0</td>\n",
       "      <td>2.0</td>\n",
       "      <td>3.0</td>\n",
       "      <td>4177.0</td>\n",
       "      <td>11.0</td>\n",
       "      <td>1.0</td>\n",
       "    </tr>\n",
       "    <tr>\n",
       "      <th>199128</th>\n",
       "      <td>3.0</td>\n",
       "      <td>1.0</td>\n",
       "      <td>2.0</td>\n",
       "      <td>2584.0</td>\n",
       "      <td>13.0</td>\n",
       "      <td>2.0</td>\n",
       "    </tr>\n",
       "  </tbody>\n",
       "</table>\n",
       "</div>"
      ],
      "text/plain": [
       "        DIABETE4  _RFHYPE6  GENHLTH   _BMI5  _AGEG5YR  TOLDHI3\n",
       "187468       3.0       1.0      3.0  3208.0       5.0      2.0\n",
       "384200       3.0       1.0      1.0     NaN       3.0      2.0\n",
       "26743        3.0       2.0      3.0     NaN       7.0      2.0\n",
       "63691        1.0       2.0      3.0  4177.0      11.0      1.0\n",
       "199128       3.0       1.0      2.0  2584.0      13.0      2.0"
      ]
     },
     "execution_count": 19,
     "metadata": {},
     "output_type": "execute_result"
    }
   ],
   "source": [
    "# sample 10%\n",
    "df_new = df1.sample(frac =.02)\n",
    "\n",
    "# filter 5 features: HighBP, GenHlth, BMI, Age, HighChol (TOLDHI3) Keep only 1 and 2 as categories\n",
    "df_filter = df_new[['DIABETE4','_RFHYPE6', 'GENHLTH', '_BMI5', '_AGEG5YR', 'TOLDHI3']]\n",
    "print(df_filter.shape)\n",
    "df_filter.head(5)"
   ]
  },
  {
   "cell_type": "code",
   "execution_count": 20,
   "id": "ada5e42c",
   "metadata": {},
   "outputs": [
    {
     "data": {
      "text/plain": [
       "(6736, 6)"
      ]
     },
     "execution_count": 20,
     "metadata": {},
     "output_type": "execute_result"
    }
   ],
   "source": [
    "df_selected = df_filter.dropna()\n",
    "df_selected.shape"
   ]
  },
  {
   "cell_type": "code",
   "execution_count": 21,
   "id": "81221eb9",
   "metadata": {},
   "outputs": [
    {
     "data": {
      "text/plain": [
       "array([0., 1.])"
      ]
     },
     "execution_count": 21,
     "metadata": {},
     "output_type": "execute_result"
    }
   ],
   "source": [
    "df_selected['DIABETE4'] = df_selected['DIABETE4'].replace({2:0, 3:0, 4:1})\n",
    "df_selected = df_selected[df_selected.DIABETE4 != 7]\n",
    "df_selected = df_selected[df_selected.DIABETE4 != 9]\n",
    "df_selected.DIABETE4.unique()"
   ]
  },
  {
   "cell_type": "code",
   "execution_count": 22,
   "id": "b4a7696a",
   "metadata": {},
   "outputs": [
    {
     "data": {
      "text/plain": [
       "array([0., 1.])"
      ]
     },
     "execution_count": 22,
     "metadata": {},
     "output_type": "execute_result"
    }
   ],
   "source": [
    "# TOLDHI3\n",
    "# Change 2 to 0 because it is No\n",
    "# Remove all 7 (dont knows)\n",
    "# Remove all 9 (refused)\n",
    "df_selected['TOLDHI3'] = df_selected['TOLDHI3'].replace({2:0})\n",
    "df_selected = df_selected[df_selected.TOLDHI3 != 7]\n",
    "df_selected = df_selected[df_filter.TOLDHI3 != 9]\n",
    "df_selected.TOLDHI3.unique()"
   ]
  },
  {
   "cell_type": "code",
   "execution_count": 23,
   "id": "d05fe1e7",
   "metadata": {},
   "outputs": [
    {
     "data": {
      "text/plain": [
       "array([0., 1.])"
      ]
     },
     "execution_count": 23,
     "metadata": {},
     "output_type": "execute_result"
    }
   ],
   "source": [
    "# _RFHYPE6\n",
    "#Change 1 to 0 so it represetnts No high blood pressure and 2 to 1 so it represents high blood pressure\n",
    "df_selected['_RFHYPE6'] = df_selected['_RFHYPE6'].replace({1:0, 2:1})\n",
    "df_selected = df_selected[df_selected._RFHYPE6 != 9]\n",
    "df_selected._RFHYPE6.unique()"
   ]
  },
  {
   "cell_type": "code",
   "execution_count": 24,
   "id": "cb565f77",
   "metadata": {},
   "outputs": [
    {
     "data": {
      "text/plain": [
       "array([32., 42., 26., 24., 27., 35., 33., 19., 28., 25., 22., 34., 29.,\n",
       "       30., 31., 23., 38., 20., 41., 36., 40., 48., 39., 21., 54., 43.,\n",
       "       45., 18., 37., 47., 57., 44., 17., 51., 46., 49., 52., 50., 53.,\n",
       "       71., 16., 56., 62., 63., 15., 64., 73., 99., 81., 55., 87., 78.,\n",
       "       68., 14., 13., 84., 60.])"
      ]
     },
     "execution_count": 24,
     "metadata": {},
     "output_type": "execute_result"
    }
   ],
   "source": [
    "#_BMI5 (no changes, just note that these are BMI * 100. So for example a BMI of 4018 is really 40.18)\n",
    "df_selected['_BMI5'] = df_selected['_BMI5'].div(100).round(0)\n",
    "df_selected._BMI5.unique()"
   ]
  },
  {
   "cell_type": "code",
   "execution_count": 25,
   "id": "09250623",
   "metadata": {},
   "outputs": [
    {
     "data": {
      "text/plain": [
       "array([3., 2., 4., 5., 1.])"
      ]
     },
     "execution_count": 25,
     "metadata": {},
     "output_type": "execute_result"
    }
   ],
   "source": [
    "# GENHLTH\n",
    "# This is an ordinal variable that will be keept (1 is Excellent -> 5 is Poor)\n",
    "# Remove 7 and 9 for don't know and refused\n",
    "df_selected = df_selected[df_selected.GENHLTH != 7]\n",
    "df_selected = df_selected[df_selected.GENHLTH != 9]\n",
    "df_selected.GENHLTH.unique()"
   ]
  },
  {
   "cell_type": "code",
   "execution_count": 26,
   "id": "b95cba92",
   "metadata": {},
   "outputs": [
    {
     "data": {
      "text/plain": [
       "array([ 5., 11., 13., 10.,  4.,  6.,  9.,  7.,  1.,  2.,  8., 12.,  3.])"
      ]
     },
     "execution_count": 26,
     "metadata": {},
     "output_type": "execute_result"
    }
   ],
   "source": [
    "# _AGEG5YR\n",
    "# already ordinal. 1 is 18-24 all the way up to 13 wis 80 and older. 5 year increments.\n",
    "# remove 14 because it is don't know or missing\n",
    "df_selected = df_selected[df_selected._AGEG5YR != 14]\n",
    "df_selected._AGEG5YR.unique()"
   ]
  },
  {
   "cell_type": "code",
   "execution_count": 27,
   "id": "bf256b03",
   "metadata": {},
   "outputs": [
    {
     "data": {
      "text/html": [
       "<div>\n",
       "<style scoped>\n",
       "    .dataframe tbody tr th:only-of-type {\n",
       "        vertical-align: middle;\n",
       "    }\n",
       "\n",
       "    .dataframe tbody tr th {\n",
       "        vertical-align: top;\n",
       "    }\n",
       "\n",
       "    .dataframe thead th {\n",
       "        text-align: right;\n",
       "    }\n",
       "</style>\n",
       "<table border=\"1\" class=\"dataframe\">\n",
       "  <thead>\n",
       "    <tr style=\"text-align: right;\">\n",
       "      <th></th>\n",
       "      <th>Diabetes_binary</th>\n",
       "      <th>HighBP</th>\n",
       "      <th>GenHlth</th>\n",
       "      <th>BMI</th>\n",
       "      <th>Age</th>\n",
       "      <th>HighChol</th>\n",
       "    </tr>\n",
       "  </thead>\n",
       "  <tbody>\n",
       "    <tr>\n",
       "      <th>187468</th>\n",
       "      <td>0.0</td>\n",
       "      <td>0.0</td>\n",
       "      <td>3.0</td>\n",
       "      <td>32.0</td>\n",
       "      <td>5.0</td>\n",
       "      <td>0.0</td>\n",
       "    </tr>\n",
       "    <tr>\n",
       "      <th>63691</th>\n",
       "      <td>1.0</td>\n",
       "      <td>1.0</td>\n",
       "      <td>3.0</td>\n",
       "      <td>42.0</td>\n",
       "      <td>11.0</td>\n",
       "      <td>1.0</td>\n",
       "    </tr>\n",
       "    <tr>\n",
       "      <th>199128</th>\n",
       "      <td>0.0</td>\n",
       "      <td>0.0</td>\n",
       "      <td>2.0</td>\n",
       "      <td>26.0</td>\n",
       "      <td>13.0</td>\n",
       "      <td>0.0</td>\n",
       "    </tr>\n",
       "    <tr>\n",
       "      <th>399071</th>\n",
       "      <td>1.0</td>\n",
       "      <td>1.0</td>\n",
       "      <td>2.0</td>\n",
       "      <td>24.0</td>\n",
       "      <td>10.0</td>\n",
       "      <td>0.0</td>\n",
       "    </tr>\n",
       "    <tr>\n",
       "      <th>4811</th>\n",
       "      <td>0.0</td>\n",
       "      <td>1.0</td>\n",
       "      <td>2.0</td>\n",
       "      <td>27.0</td>\n",
       "      <td>13.0</td>\n",
       "      <td>1.0</td>\n",
       "    </tr>\n",
       "  </tbody>\n",
       "</table>\n",
       "</div>"
      ],
      "text/plain": [
       "        Diabetes_binary  HighBP  GenHlth   BMI   Age  HighChol\n",
       "187468              0.0     0.0      3.0  32.0   5.0       0.0\n",
       "63691               1.0     1.0      3.0  42.0  11.0       1.0\n",
       "199128              0.0     0.0      2.0  26.0  13.0       0.0\n",
       "399071              1.0     1.0      2.0  24.0  10.0       0.0\n",
       "4811                0.0     1.0      2.0  27.0  13.0       1.0"
      ]
     },
     "execution_count": 27,
     "metadata": {},
     "output_type": "execute_result"
    }
   ],
   "source": [
    "# renaming to match the column in modelling.\n",
    "df_selected.rename(columns = {'_RFHYPE6':'HighBP', '_BMI5':'BMI', '_AGEG5YR': 'Age', 'TOLDHI3':'HighChol', 'DIABETE4': 'Diabetes_binary', 'GENHLTH':'GenHlth'}, inplace = True)\n",
    "df_selected.head(5)"
   ]
  },
  {
   "cell_type": "code",
   "execution_count": 28,
   "id": "9de52eee",
   "metadata": {},
   "outputs": [
    {
     "data": {
      "text/plain": [
       "(6558, 6)"
      ]
     },
     "execution_count": 28,
     "metadata": {},
     "output_type": "execute_result"
    }
   ],
   "source": [
    "df_selected.shape"
   ]
  },
  {
   "cell_type": "markdown",
   "id": "519ce806",
   "metadata": {},
   "source": [
    "Exporting 2021 data to use as additional test in 'FE_Model'"
   ]
  },
  {
   "cell_type": "code",
   "execution_count": 29,
   "id": "c5471c84",
   "metadata": {},
   "outputs": [],
   "source": [
    "df_selected.to_csv('2021_CDC_test.csv',index=False)"
   ]
  }
 ],
 "metadata": {
  "kernelspec": {
   "display_name": "Python 3 (ipykernel)",
   "language": "python",
   "name": "python3"
  },
  "language_info": {
   "codemirror_mode": {
    "name": "ipython",
    "version": 3
   },
   "file_extension": ".py",
   "mimetype": "text/x-python",
   "name": "python",
   "nbconvert_exporter": "python",
   "pygments_lexer": "ipython3",
   "version": "3.11.8"
  }
 },
 "nbformat": 4,
 "nbformat_minor": 5
}
