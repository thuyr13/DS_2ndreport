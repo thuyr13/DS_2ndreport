{
 "cells": [
  {
   "cell_type": "code",
   "execution_count": 1,
   "id": "653084fd",
   "metadata": {},
   "outputs": [],
   "source": [
    "import pandas as pd\n",
    "import numpy as np\n",
    "\n",
    "import warnings\n",
    "warnings.filterwarnings('ignore')"
   ]
  },
  {
   "cell_type": "markdown",
   "id": "54b470dd",
   "metadata": {},
   "source": [
    "Data from 2021 to validate the models"
   ]
  },
  {
   "cell_type": "code",
   "execution_count": 3,
   "id": "c0195d49-0ed1-46ad-a70c-04326f60b5c4",
   "metadata": {},
   "outputs": [
    {
     "name": "stdout",
     "output_type": "stream",
     "text": [
      "(438693, 303)\n"
     ]
    }
   ],
   "source": [
    "df1 = pd.read_sas(\"LLCP2021.XPT\")  \n",
    "print(df1.shape)\n",
    "#df.head(5)"
   ]
  },
  {
   "cell_type": "code",
   "execution_count": 5,
   "id": "858c1165",
   "metadata": {},
   "outputs": [
    {
     "name": "stdout",
     "output_type": "stream",
     "text": [
      "(438693, 7)\n"
     ]
    },
    {
     "data": {
      "text/html": [
       "<div>\n",
       "<style scoped>\n",
       "    .dataframe tbody tr th:only-of-type {\n",
       "        vertical-align: middle;\n",
       "    }\n",
       "\n",
       "    .dataframe tbody tr th {\n",
       "        vertical-align: top;\n",
       "    }\n",
       "\n",
       "    .dataframe thead th {\n",
       "        text-align: right;\n",
       "    }\n",
       "</style>\n",
       "<table border=\"1\" class=\"dataframe\">\n",
       "  <thead>\n",
       "    <tr style=\"text-align: right;\">\n",
       "      <th></th>\n",
       "      <th>DIABETE4</th>\n",
       "      <th>_BMI5</th>\n",
       "      <th>_AGEG5YR</th>\n",
       "      <th>MENTHLTH</th>\n",
       "      <th>GENHLTH</th>\n",
       "      <th>EDUCA</th>\n",
       "      <th>_RFHYPE6</th>\n",
       "    </tr>\n",
       "  </thead>\n",
       "  <tbody>\n",
       "    <tr>\n",
       "      <th>0</th>\n",
       "      <td>3.0</td>\n",
       "      <td>1454.0</td>\n",
       "      <td>11.0</td>\n",
       "      <td>10.0</td>\n",
       "      <td>5.0</td>\n",
       "      <td>4.0</td>\n",
       "      <td>1.0</td>\n",
       "    </tr>\n",
       "    <tr>\n",
       "      <th>1</th>\n",
       "      <td>1.0</td>\n",
       "      <td>NaN</td>\n",
       "      <td>10.0</td>\n",
       "      <td>88.0</td>\n",
       "      <td>3.0</td>\n",
       "      <td>6.0</td>\n",
       "      <td>2.0</td>\n",
       "    </tr>\n",
       "    <tr>\n",
       "      <th>2</th>\n",
       "      <td>1.0</td>\n",
       "      <td>2829.0</td>\n",
       "      <td>11.0</td>\n",
       "      <td>88.0</td>\n",
       "      <td>2.0</td>\n",
       "      <td>4.0</td>\n",
       "      <td>2.0</td>\n",
       "    </tr>\n",
       "    <tr>\n",
       "      <th>3</th>\n",
       "      <td>1.0</td>\n",
       "      <td>3347.0</td>\n",
       "      <td>9.0</td>\n",
       "      <td>10.0</td>\n",
       "      <td>2.0</td>\n",
       "      <td>4.0</td>\n",
       "      <td>2.0</td>\n",
       "    </tr>\n",
       "    <tr>\n",
       "      <th>4</th>\n",
       "      <td>1.0</td>\n",
       "      <td>2873.0</td>\n",
       "      <td>12.0</td>\n",
       "      <td>88.0</td>\n",
       "      <td>5.0</td>\n",
       "      <td>3.0</td>\n",
       "      <td>1.0</td>\n",
       "    </tr>\n",
       "  </tbody>\n",
       "</table>\n",
       "</div>"
      ],
      "text/plain": [
       "   DIABETE4   _BMI5  _AGEG5YR  MENTHLTH  GENHLTH  EDUCA  _RFHYPE6\n",
       "0       3.0  1454.0      11.0      10.0      5.0    4.0       1.0\n",
       "1       1.0     NaN      10.0      88.0      3.0    6.0       2.0\n",
       "2       1.0  2829.0      11.0      88.0      2.0    4.0       2.0\n",
       "3       1.0  3347.0       9.0      10.0      2.0    4.0       2.0\n",
       "4       1.0  2873.0      12.0      88.0      5.0    3.0       1.0"
      ]
     },
     "execution_count": 5,
     "metadata": {},
     "output_type": "execute_result"
    }
   ],
   "source": [
    "\n",
    "df_new = df1.copy()\n",
    "# filter 6 features: HighBP, GenHlth, BMI, Age, MentHlth, Education and 1 target.\n",
    "df_filter = df_new[['DIABETE4','_BMI5', '_AGEG5YR', 'MENTHLTH', 'GENHLTH', 'EDUCA', '_RFHYPE6']]\n",
    "print(df_filter.shape)\n",
    "df_filter.head(5)"
   ]
  },
  {
   "cell_type": "code",
   "execution_count": 6,
   "id": "edd46a37",
   "metadata": {},
   "outputs": [
    {
     "data": {
      "text/html": [
       "<div>\n",
       "<style scoped>\n",
       "    .dataframe tbody tr th:only-of-type {\n",
       "        vertical-align: middle;\n",
       "    }\n",
       "\n",
       "    .dataframe tbody tr th {\n",
       "        vertical-align: top;\n",
       "    }\n",
       "\n",
       "    .dataframe thead th {\n",
       "        text-align: right;\n",
       "    }\n",
       "</style>\n",
       "<table border=\"1\" class=\"dataframe\">\n",
       "  <thead>\n",
       "    <tr style=\"text-align: right;\">\n",
       "      <th></th>\n",
       "      <th>DIABETE4</th>\n",
       "      <th>_BMI5</th>\n",
       "      <th>_AGEG5YR</th>\n",
       "      <th>MENTHLTH</th>\n",
       "      <th>GENHLTH</th>\n",
       "      <th>EDUCA</th>\n",
       "      <th>_RFHYPE6</th>\n",
       "    </tr>\n",
       "  </thead>\n",
       "  <tbody>\n",
       "    <tr>\n",
       "      <th>count</th>\n",
       "      <td>438690.000000</td>\n",
       "      <td>391841.000000</td>\n",
       "      <td>438693.000000</td>\n",
       "      <td>438691.000000</td>\n",
       "      <td>438689.000000</td>\n",
       "      <td>438688.000000</td>\n",
       "      <td>438693.000000</td>\n",
       "    </tr>\n",
       "    <tr>\n",
       "      <th>mean</th>\n",
       "      <td>2.761946</td>\n",
       "      <td>2855.226495</td>\n",
       "      <td>7.726016</td>\n",
       "      <td>59.923347</td>\n",
       "      <td>2.524761</td>\n",
       "      <td>5.035267</td>\n",
       "      <td>1.427244</td>\n",
       "    </tr>\n",
       "    <tr>\n",
       "      <th>std</th>\n",
       "      <td>0.743411</td>\n",
       "      <td>655.194977</td>\n",
       "      <td>3.645926</td>\n",
       "      <td>37.472680</td>\n",
       "      <td>1.082066</td>\n",
       "      <td>1.047852</td>\n",
       "      <td>0.699127</td>\n",
       "    </tr>\n",
       "    <tr>\n",
       "      <th>min</th>\n",
       "      <td>1.000000</td>\n",
       "      <td>1200.000000</td>\n",
       "      <td>1.000000</td>\n",
       "      <td>1.000000</td>\n",
       "      <td>1.000000</td>\n",
       "      <td>1.000000</td>\n",
       "      <td>1.000000</td>\n",
       "    </tr>\n",
       "    <tr>\n",
       "      <th>25%</th>\n",
       "      <td>3.000000</td>\n",
       "      <td>2414.000000</td>\n",
       "      <td>5.000000</td>\n",
       "      <td>15.000000</td>\n",
       "      <td>2.000000</td>\n",
       "      <td>4.000000</td>\n",
       "      <td>1.000000</td>\n",
       "    </tr>\n",
       "    <tr>\n",
       "      <th>50%</th>\n",
       "      <td>3.000000</td>\n",
       "      <td>2744.000000</td>\n",
       "      <td>8.000000</td>\n",
       "      <td>88.000000</td>\n",
       "      <td>2.000000</td>\n",
       "      <td>5.000000</td>\n",
       "      <td>1.000000</td>\n",
       "    </tr>\n",
       "    <tr>\n",
       "      <th>75%</th>\n",
       "      <td>3.000000</td>\n",
       "      <td>3174.000000</td>\n",
       "      <td>11.000000</td>\n",
       "      <td>88.000000</td>\n",
       "      <td>3.000000</td>\n",
       "      <td>6.000000</td>\n",
       "      <td>2.000000</td>\n",
       "    </tr>\n",
       "    <tr>\n",
       "      <th>max</th>\n",
       "      <td>9.000000</td>\n",
       "      <td>9933.000000</td>\n",
       "      <td>14.000000</td>\n",
       "      <td>99.000000</td>\n",
       "      <td>9.000000</td>\n",
       "      <td>9.000000</td>\n",
       "      <td>9.000000</td>\n",
       "    </tr>\n",
       "  </tbody>\n",
       "</table>\n",
       "</div>"
      ],
      "text/plain": [
       "            DIABETE4          _BMI5       _AGEG5YR       MENTHLTH  \\\n",
       "count  438690.000000  391841.000000  438693.000000  438691.000000   \n",
       "mean        2.761946    2855.226495       7.726016      59.923347   \n",
       "std         0.743411     655.194977       3.645926      37.472680   \n",
       "min         1.000000    1200.000000       1.000000       1.000000   \n",
       "25%         3.000000    2414.000000       5.000000      15.000000   \n",
       "50%         3.000000    2744.000000       8.000000      88.000000   \n",
       "75%         3.000000    3174.000000      11.000000      88.000000   \n",
       "max         9.000000    9933.000000      14.000000      99.000000   \n",
       "\n",
       "             GENHLTH          EDUCA       _RFHYPE6  \n",
       "count  438689.000000  438688.000000  438693.000000  \n",
       "mean        2.524761       5.035267       1.427244  \n",
       "std         1.082066       1.047852       0.699127  \n",
       "min         1.000000       1.000000       1.000000  \n",
       "25%         2.000000       4.000000       1.000000  \n",
       "50%         2.000000       5.000000       1.000000  \n",
       "75%         3.000000       6.000000       2.000000  \n",
       "max         9.000000       9.000000       9.000000  "
      ]
     },
     "execution_count": 6,
     "metadata": {},
     "output_type": "execute_result"
    }
   ],
   "source": [
    "df_filter.describe()"
   ]
  },
  {
   "cell_type": "markdown",
   "id": "e21971e9",
   "metadata": {},
   "source": [
    "There are odd max values, need to adjust so that it fits the previous cleaned data."
   ]
  },
  {
   "cell_type": "code",
   "execution_count": 7,
   "id": "ada5e42c",
   "metadata": {},
   "outputs": [
    {
     "data": {
      "text/plain": [
       "(391838, 7)"
      ]
     },
     "execution_count": 7,
     "metadata": {},
     "output_type": "execute_result"
    }
   ],
   "source": [
    "df_selected = df_filter.dropna()\n",
    "df_selected.shape"
   ]
  },
  {
   "cell_type": "code",
   "execution_count": 8,
   "id": "81221eb9",
   "metadata": {},
   "outputs": [
    {
     "data": {
      "text/plain": [
       "array([0., 1.])"
      ]
     },
     "execution_count": 8,
     "metadata": {},
     "output_type": "execute_result"
    }
   ],
   "source": [
    "df_selected['DIABETE4'] = df_selected['DIABETE4'].replace({2:1, 3:0, 4:1})\n",
    "df_selected = df_selected[df_selected.DIABETE4 != 7]\n",
    "df_selected = df_selected[df_selected.DIABETE4 != 9]\n",
    "df_selected.DIABETE4.unique()"
   ]
  },
  {
   "cell_type": "code",
   "execution_count": 9,
   "id": "d05fe1e7",
   "metadata": {},
   "outputs": [
    {
     "data": {
      "text/plain": [
       "array([0., 1.])"
      ]
     },
     "execution_count": 9,
     "metadata": {},
     "output_type": "execute_result"
    }
   ],
   "source": [
    "# _RFHYPE6\n",
    "#Change 1 to 0 so it represetnts No high blood pressure and 2 to 1 so it represents high blood pressure\n",
    "df_selected['_RFHYPE6'] = df_selected['_RFHYPE6'].replace({1:0, 2:1})\n",
    "df_selected = df_selected[df_selected._RFHYPE6 != 9]\n",
    "df_selected._RFHYPE6.unique()"
   ]
  },
  {
   "cell_type": "code",
   "execution_count": 10,
   "id": "cb565f77",
   "metadata": {},
   "outputs": [
    {
     "data": {
      "text/plain": [
       "array([15., 28., 33., 29., 24., 46., 23., 40., 27., 35., 18., 30., 25.,\n",
       "       36., 22., 21., 44., 38., 31., 45., 26., 37., 14., 32., 20., 19.,\n",
       "       34., 41., 43., 39., 16., 42., 50., 51., 17., 52., 47., 49., 56.,\n",
       "       57., 48., 58., 61., 53., 63., 64., 54., 55., 68., 62., 13., 59.,\n",
       "       89., 66., 77., 60., 87., 69., 72., 75., 67., 79., 71., 65., 94.,\n",
       "       82., 86., 12., 70., 78., 74., 98., 73., 84., 76., 83., 80., 97.,\n",
       "       99., 88., 81., 92., 85., 90., 95., 91.])"
      ]
     },
     "execution_count": 10,
     "metadata": {},
     "output_type": "execute_result"
    }
   ],
   "source": [
    "#_BMI5 (no changes, just note that these are BMI * 100. So for example a BMI of 4018 is really 40.18)\n",
    "df_selected['_BMI5'] = df_selected['_BMI5'].div(100).round(0)\n",
    "df_selected._BMI5.unique()"
   ]
  },
  {
   "cell_type": "code",
   "execution_count": 11,
   "id": "09250623",
   "metadata": {},
   "outputs": [
    {
     "data": {
      "text/plain": [
       "array([5., 2., 3., 4., 1.])"
      ]
     },
     "execution_count": 11,
     "metadata": {},
     "output_type": "execute_result"
    }
   ],
   "source": [
    "# GENHLTH\n",
    "# Remove 7 and 9 for don't know and refused\n",
    "df_selected = df_selected[df_selected.GENHLTH != 7]\n",
    "df_selected = df_selected[df_selected.GENHLTH != 9]\n",
    "df_selected.GENHLTH.unique()"
   ]
  },
  {
   "cell_type": "code",
   "execution_count": 12,
   "id": "b95cba92",
   "metadata": {},
   "outputs": [
    {
     "data": {
      "text/plain": [
       "array([11.,  9., 12., 13., 10.,  7.,  6.,  1.,  3.,  8.,  4.,  5.,  2.])"
      ]
     },
     "execution_count": 12,
     "metadata": {},
     "output_type": "execute_result"
    }
   ],
   "source": [
    "# _AGEG5YR\n",
    "# already ordinal. 1 is 18-24 all the way up to 13 wis 80 and older. 5 year increments.\n",
    "# remove 14 because it is don't know or missing\n",
    "df_selected = df_selected[df_selected._AGEG5YR != 14]\n",
    "df_selected._AGEG5YR.unique()"
   ]
  },
  {
   "cell_type": "code",
   "execution_count": 13,
   "id": "194f89a6",
   "metadata": {},
   "outputs": [
    {
     "data": {
      "text/plain": [
       "array([10.,  0.,  5., 25., 15., 14.,  2.,  3.,  7.,  1., 30., 20.,  8.,\n",
       "        4., 21., 28., 24., 12.,  6., 22., 27.,  9., 18., 13., 17., 16.,\n",
       "       19., 29., 23., 26., 11.])"
      ]
     },
     "execution_count": 13,
     "metadata": {},
     "output_type": "execute_result"
    }
   ],
   "source": [
    "# MENTHLTH = Number of Days Mental Health is Not Good\n",
    "# It is already in days, scale will be between 0-30\n",
    "# Change 88 to 0, means none (no bad mental health days)\n",
    "# Remove all 77 Which mean: dont knows.\n",
    "# Remove all 99 , which indicates interviewee refused to answer.\n",
    "df_selected['MENTHLTH'] = df_selected['MENTHLTH'].replace({88:0})\n",
    "df_selected = df_selected[df_selected.MENTHLTH != 77]\n",
    "df_selected = df_selected[df_selected.MENTHLTH != 99]\n",
    "df_selected.MENTHLTH.unique()"
   ]
  },
  {
   "cell_type": "code",
   "execution_count": 14,
   "id": "6acc100b",
   "metadata": {},
   "outputs": [
    {
     "data": {
      "text/plain": [
       "array([4., 3., 5., 6., 2., 1.])"
      ]
     },
     "execution_count": 14,
     "metadata": {},
     "output_type": "execute_result"
    }
   ],
   "source": [
    "# EDUCA = Education Level\n",
    "# Remove all 9, which indicate who refused to answer.\n",
    "df_selected = df_selected[df_selected.EDUCA != 9]\n",
    "df_selected.EDUCA.unique()"
   ]
  },
  {
   "cell_type": "code",
   "execution_count": 15,
   "id": "bf256b03",
   "metadata": {},
   "outputs": [
    {
     "data": {
      "text/html": [
       "<div>\n",
       "<style scoped>\n",
       "    .dataframe tbody tr th:only-of-type {\n",
       "        vertical-align: middle;\n",
       "    }\n",
       "\n",
       "    .dataframe tbody tr th {\n",
       "        vertical-align: top;\n",
       "    }\n",
       "\n",
       "    .dataframe thead th {\n",
       "        text-align: right;\n",
       "    }\n",
       "</style>\n",
       "<table border=\"1\" class=\"dataframe\">\n",
       "  <thead>\n",
       "    <tr style=\"text-align: right;\">\n",
       "      <th></th>\n",
       "      <th>Diabetes_binary</th>\n",
       "      <th>BMI</th>\n",
       "      <th>Age</th>\n",
       "      <th>MentHlth</th>\n",
       "      <th>GenHlth</th>\n",
       "      <th>Education</th>\n",
       "      <th>HighBP</th>\n",
       "    </tr>\n",
       "  </thead>\n",
       "  <tbody>\n",
       "    <tr>\n",
       "      <th>0</th>\n",
       "      <td>0.0</td>\n",
       "      <td>15.0</td>\n",
       "      <td>11.0</td>\n",
       "      <td>10.0</td>\n",
       "      <td>5.0</td>\n",
       "      <td>4.0</td>\n",
       "      <td>0.0</td>\n",
       "    </tr>\n",
       "    <tr>\n",
       "      <th>2</th>\n",
       "      <td>1.0</td>\n",
       "      <td>28.0</td>\n",
       "      <td>11.0</td>\n",
       "      <td>0.0</td>\n",
       "      <td>2.0</td>\n",
       "      <td>4.0</td>\n",
       "      <td>1.0</td>\n",
       "    </tr>\n",
       "    <tr>\n",
       "      <th>3</th>\n",
       "      <td>1.0</td>\n",
       "      <td>33.0</td>\n",
       "      <td>9.0</td>\n",
       "      <td>10.0</td>\n",
       "      <td>2.0</td>\n",
       "      <td>4.0</td>\n",
       "      <td>1.0</td>\n",
       "    </tr>\n",
       "    <tr>\n",
       "      <th>4</th>\n",
       "      <td>1.0</td>\n",
       "      <td>29.0</td>\n",
       "      <td>12.0</td>\n",
       "      <td>0.0</td>\n",
       "      <td>5.0</td>\n",
       "      <td>3.0</td>\n",
       "      <td>0.0</td>\n",
       "    </tr>\n",
       "    <tr>\n",
       "      <th>5</th>\n",
       "      <td>0.0</td>\n",
       "      <td>24.0</td>\n",
       "      <td>13.0</td>\n",
       "      <td>0.0</td>\n",
       "      <td>3.0</td>\n",
       "      <td>5.0</td>\n",
       "      <td>0.0</td>\n",
       "    </tr>\n",
       "  </tbody>\n",
       "</table>\n",
       "</div>"
      ],
      "text/plain": [
       "   Diabetes_binary   BMI   Age  MentHlth  GenHlth  Education  HighBP\n",
       "0              0.0  15.0  11.0      10.0      5.0        4.0     0.0\n",
       "2              1.0  28.0  11.0       0.0      2.0        4.0     1.0\n",
       "3              1.0  33.0   9.0      10.0      2.0        4.0     1.0\n",
       "4              1.0  29.0  12.0       0.0      5.0        3.0     0.0\n",
       "5              0.0  24.0  13.0       0.0      3.0        5.0     0.0"
      ]
     },
     "execution_count": 15,
     "metadata": {},
     "output_type": "execute_result"
    }
   ],
   "source": [
    "# renaming to match the column in modelling.\n",
    "df_selected.rename(columns = {'_RFHYPE6':'HighBP', '_BMI5':'BMI', '_AGEG5YR': 'Age', 'TOLDHI3':'HighChol', 'DIABETE4': 'Diabetes_binary', 'GENHLTH':'GenHlth', 'MENTHLTH':'MentHlth', 'EDUCA':'Education'}, inplace = True)\n",
    "df_selected.head(5)"
   ]
  },
  {
   "cell_type": "code",
   "execution_count": 16,
   "id": "eaa2baaa",
   "metadata": {},
   "outputs": [
    {
     "data": {
      "text/html": [
       "<div>\n",
       "<style scoped>\n",
       "    .dataframe tbody tr th:only-of-type {\n",
       "        vertical-align: middle;\n",
       "    }\n",
       "\n",
       "    .dataframe tbody tr th {\n",
       "        vertical-align: top;\n",
       "    }\n",
       "\n",
       "    .dataframe thead th {\n",
       "        text-align: right;\n",
       "    }\n",
       "</style>\n",
       "<table border=\"1\" class=\"dataframe\">\n",
       "  <thead>\n",
       "    <tr style=\"text-align: right;\">\n",
       "      <th></th>\n",
       "      <th>Diabetes_binary</th>\n",
       "      <th>BMI</th>\n",
       "      <th>Age</th>\n",
       "      <th>MentHlth</th>\n",
       "      <th>GenHlth</th>\n",
       "      <th>Education</th>\n",
       "      <th>HighBP</th>\n",
       "    </tr>\n",
       "  </thead>\n",
       "  <tbody>\n",
       "    <tr>\n",
       "      <th>count</th>\n",
       "      <td>377857.000000</td>\n",
       "      <td>377857.000000</td>\n",
       "      <td>377857.000000</td>\n",
       "      <td>377857.000000</td>\n",
       "      <td>377857.000000</td>\n",
       "      <td>377857.000000</td>\n",
       "      <td>377857.000000</td>\n",
       "    </tr>\n",
       "    <tr>\n",
       "      <th>mean</th>\n",
       "      <td>0.163422</td>\n",
       "      <td>28.558251</td>\n",
       "      <td>7.606994</td>\n",
       "      <td>4.156607</td>\n",
       "      <td>2.501184</td>\n",
       "      <td>5.030909</td>\n",
       "      <td>0.397050</td>\n",
       "    </tr>\n",
       "    <tr>\n",
       "      <th>std</th>\n",
       "      <td>0.369750</td>\n",
       "      <td>6.559507</td>\n",
       "      <td>3.557772</td>\n",
       "      <td>8.183272</td>\n",
       "      <td>1.048337</td>\n",
       "      <td>0.990007</td>\n",
       "      <td>0.489287</td>\n",
       "    </tr>\n",
       "    <tr>\n",
       "      <th>min</th>\n",
       "      <td>0.000000</td>\n",
       "      <td>12.000000</td>\n",
       "      <td>1.000000</td>\n",
       "      <td>0.000000</td>\n",
       "      <td>1.000000</td>\n",
       "      <td>1.000000</td>\n",
       "      <td>0.000000</td>\n",
       "    </tr>\n",
       "    <tr>\n",
       "      <th>25%</th>\n",
       "      <td>0.000000</td>\n",
       "      <td>24.000000</td>\n",
       "      <td>5.000000</td>\n",
       "      <td>0.000000</td>\n",
       "      <td>2.000000</td>\n",
       "      <td>4.000000</td>\n",
       "      <td>0.000000</td>\n",
       "    </tr>\n",
       "    <tr>\n",
       "      <th>50%</th>\n",
       "      <td>0.000000</td>\n",
       "      <td>27.000000</td>\n",
       "      <td>8.000000</td>\n",
       "      <td>0.000000</td>\n",
       "      <td>2.000000</td>\n",
       "      <td>5.000000</td>\n",
       "      <td>0.000000</td>\n",
       "    </tr>\n",
       "    <tr>\n",
       "      <th>75%</th>\n",
       "      <td>0.000000</td>\n",
       "      <td>32.000000</td>\n",
       "      <td>11.000000</td>\n",
       "      <td>4.000000</td>\n",
       "      <td>3.000000</td>\n",
       "      <td>6.000000</td>\n",
       "      <td>1.000000</td>\n",
       "    </tr>\n",
       "    <tr>\n",
       "      <th>max</th>\n",
       "      <td>1.000000</td>\n",
       "      <td>99.000000</td>\n",
       "      <td>13.000000</td>\n",
       "      <td>30.000000</td>\n",
       "      <td>5.000000</td>\n",
       "      <td>6.000000</td>\n",
       "      <td>1.000000</td>\n",
       "    </tr>\n",
       "  </tbody>\n",
       "</table>\n",
       "</div>"
      ],
      "text/plain": [
       "       Diabetes_binary            BMI            Age       MentHlth  \\\n",
       "count    377857.000000  377857.000000  377857.000000  377857.000000   \n",
       "mean          0.163422      28.558251       7.606994       4.156607   \n",
       "std           0.369750       6.559507       3.557772       8.183272   \n",
       "min           0.000000      12.000000       1.000000       0.000000   \n",
       "25%           0.000000      24.000000       5.000000       0.000000   \n",
       "50%           0.000000      27.000000       8.000000       0.000000   \n",
       "75%           0.000000      32.000000      11.000000       4.000000   \n",
       "max           1.000000      99.000000      13.000000      30.000000   \n",
       "\n",
       "             GenHlth      Education         HighBP  \n",
       "count  377857.000000  377857.000000  377857.000000  \n",
       "mean        2.501184       5.030909       0.397050  \n",
       "std         1.048337       0.990007       0.489287  \n",
       "min         1.000000       1.000000       0.000000  \n",
       "25%         2.000000       4.000000       0.000000  \n",
       "50%         2.000000       5.000000       0.000000  \n",
       "75%         3.000000       6.000000       1.000000  \n",
       "max         5.000000       6.000000       1.000000  "
      ]
     },
     "execution_count": 16,
     "metadata": {},
     "output_type": "execute_result"
    }
   ],
   "source": [
    " # Checking for any odd values\n",
    "df_selected.describe()"
   ]
  },
  {
   "cell_type": "code",
   "execution_count": 17,
   "id": "f6fc5a8d",
   "metadata": {},
   "outputs": [],
   "source": [
    "from sklearn.preprocessing import normalize\n",
    "\n",
    "bmi_c=df_selected['BMI']\n",
    "norm_bmi= normalize(bmi_c.values.reshape(1,-1)) # column into 2D array. -1 calculates the number of columns based on the original array.\n",
    "\n",
    "# Changing BMI column into normalized values\n",
    "\n",
    "df_selected.loc[:,'BMI']= norm_bmi[0] # replace with first row of 2D array."
   ]
  },
  {
   "cell_type": "code",
   "execution_count": 18,
   "id": "9de52eee",
   "metadata": {},
   "outputs": [
    {
     "data": {
      "text/plain": [
       "(377857, 7)"
      ]
     },
     "execution_count": 18,
     "metadata": {},
     "output_type": "execute_result"
    }
   ],
   "source": [
    "df_selected.shape"
   ]
  },
  {
   "cell_type": "markdown",
   "id": "519ce806",
   "metadata": {},
   "source": [
    "Exporting 2021 data to use as additional test in 'FE_Model'"
   ]
  },
  {
   "cell_type": "code",
   "execution_count": 19,
   "id": "c5471c84",
   "metadata": {},
   "outputs": [],
   "source": [
    "df_selected.to_csv('2021_CDC_test.csv',index=False)"
   ]
  }
 ],
 "metadata": {
  "kernelspec": {
   "display_name": "Python 3 (ipykernel)",
   "language": "python",
   "name": "python3"
  },
  "language_info": {
   "codemirror_mode": {
    "name": "ipython",
    "version": 3
   },
   "file_extension": ".py",
   "mimetype": "text/x-python",
   "name": "python",
   "nbconvert_exporter": "python",
   "pygments_lexer": "ipython3",
   "version": "3.11.8"
  }
 },
 "nbformat": 4,
 "nbformat_minor": 5
}
